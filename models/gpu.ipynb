{
 "cells": [
  {
   "cell_type": "code",
   "execution_count": 216,
   "metadata": {},
   "outputs": [],
   "source": [
    "import numpy as np\n",
    "import pandas as pd\n",
    "import seaborn as sns\n",
    "import matplotlib.pyplot as plt\n",
    "import tensorflow as tf\n",
    "%matplotlib inline"
   ]
  },
  {
   "cell_type": "code",
   "execution_count": 217,
   "metadata": {},
   "outputs": [
    {
     "data": {
      "text/plain": "               gpuName  G3Dmark  G2Dmark    price  gpuValue    TDP  \\\n0  GeForce RTX 3090 Ti    29094     1117  2099.99     13.85  450.0   \n1  GeForce RTX 3080 Ti    26887     1031  1199.99     22.41  350.0   \n2     GeForce RTX 3090    26395      999  1749.99     15.08  350.0   \n3    Radeon RX 6900 XT    25458     1102  1120.31     22.72  300.0   \n4     GeForce RTX 3080    24853     1003   999.00     24.88  320.0   \n\n   powerPerformance  testDate category  \n0             64.65      2022  Unknown  \n1             76.82      2021  Desktop  \n2             75.41      2020  Desktop  \n3             84.86      2020  Desktop  \n4             77.66      2020  Desktop  ",
      "text/html": "<div>\n<style scoped>\n    .dataframe tbody tr th:only-of-type {\n        vertical-align: middle;\n    }\n\n    .dataframe tbody tr th {\n        vertical-align: top;\n    }\n\n    .dataframe thead th {\n        text-align: right;\n    }\n</style>\n<table border=\"1\" class=\"dataframe\">\n  <thead>\n    <tr style=\"text-align: right;\">\n      <th></th>\n      <th>gpuName</th>\n      <th>G3Dmark</th>\n      <th>G2Dmark</th>\n      <th>price</th>\n      <th>gpuValue</th>\n      <th>TDP</th>\n      <th>powerPerformance</th>\n      <th>testDate</th>\n      <th>category</th>\n    </tr>\n  </thead>\n  <tbody>\n    <tr>\n      <th>0</th>\n      <td>GeForce RTX 3090 Ti</td>\n      <td>29094</td>\n      <td>1117</td>\n      <td>2099.99</td>\n      <td>13.85</td>\n      <td>450.0</td>\n      <td>64.65</td>\n      <td>2022</td>\n      <td>Unknown</td>\n    </tr>\n    <tr>\n      <th>1</th>\n      <td>GeForce RTX 3080 Ti</td>\n      <td>26887</td>\n      <td>1031</td>\n      <td>1199.99</td>\n      <td>22.41</td>\n      <td>350.0</td>\n      <td>76.82</td>\n      <td>2021</td>\n      <td>Desktop</td>\n    </tr>\n    <tr>\n      <th>2</th>\n      <td>GeForce RTX 3090</td>\n      <td>26395</td>\n      <td>999</td>\n      <td>1749.99</td>\n      <td>15.08</td>\n      <td>350.0</td>\n      <td>75.41</td>\n      <td>2020</td>\n      <td>Desktop</td>\n    </tr>\n    <tr>\n      <th>3</th>\n      <td>Radeon RX 6900 XT</td>\n      <td>25458</td>\n      <td>1102</td>\n      <td>1120.31</td>\n      <td>22.72</td>\n      <td>300.0</td>\n      <td>84.86</td>\n      <td>2020</td>\n      <td>Desktop</td>\n    </tr>\n    <tr>\n      <th>4</th>\n      <td>GeForce RTX 3080</td>\n      <td>24853</td>\n      <td>1003</td>\n      <td>999.00</td>\n      <td>24.88</td>\n      <td>320.0</td>\n      <td>77.66</td>\n      <td>2020</td>\n      <td>Desktop</td>\n    </tr>\n  </tbody>\n</table>\n</div>"
     },
     "execution_count": 217,
     "metadata": {},
     "output_type": "execute_result"
    }
   ],
   "source": [
    "df = pd.read_csv('../datasets/GPU_benchmarks_v7.csv')\n",
    "df.head()"
   ]
  },
  {
   "cell_type": "code",
   "execution_count": 218,
   "outputs": [
    {
     "data": {
      "text/plain": "gpuName             zxcvIntel HD 620\nG3Dmark                        29094\nG2Dmark                         1117\nprice                         8999.0\ngpuValue                       69.73\nTDP                            500.0\npowerPerformance               204.0\ntestDate                        2022\ncategory                 Workstation\ndtype: object"
     },
     "execution_count": 218,
     "metadata": {},
     "output_type": "execute_result"
    }
   ],
   "source": [
    "df.max()"
   ],
   "metadata": {
    "collapsed": false,
    "pycharm": {
     "name": "#%%\n"
    }
   }
  },
  {
   "cell_type": "code",
   "execution_count": 219,
   "metadata": {},
   "outputs": [
    {
     "name": "stdout",
     "output_type": "stream",
     "text": [
      "<class 'pandas.core.frame.DataFrame'>\n",
      "RangeIndex: 2317 entries, 0 to 2316\n",
      "Data columns (total 9 columns):\n",
      " #   Column            Non-Null Count  Dtype  \n",
      "---  ------            --------------  -----  \n",
      " 0   gpuName           2317 non-null   object \n",
      " 1   G3Dmark           2317 non-null   int64  \n",
      " 2   G2Dmark           2317 non-null   int64  \n",
      " 3   price             553 non-null    float64\n",
      " 4   gpuValue          553 non-null    float64\n",
      " 5   TDP               692 non-null    float64\n",
      " 6   powerPerformance  692 non-null    float64\n",
      " 7   testDate          2317 non-null   int64  \n",
      " 8   category          2317 non-null   object \n",
      "dtypes: float64(4), int64(3), object(2)\n",
      "memory usage: 163.0+ KB\n"
     ]
    }
   ],
   "source": [
    "df.info()"
   ]
  },
  {
   "cell_type": "code",
   "execution_count": 220,
   "metadata": {},
   "outputs": [
    {
     "data": {
      "text/plain": "<AxesSubplot:>"
     },
     "execution_count": 220,
     "metadata": {},
     "output_type": "execute_result"
    },
    {
     "data": {
      "text/plain": "<Figure size 432x288 with 2 Axes>",
      "image/png": "[encoded data removed]"
     },
     "metadata": {
      "needs_background": "light"
     },
     "output_type": "display_data"
    }
   ],
   "source": [
    "sns.heatmap(df.isnull(),cmap='coolwarm')"
   ]
  },
  {
   "cell_type": "markdown",
   "metadata": {},
   "source": [
    "# EDA "
   ]
  },
  {
   "cell_type": "code",
   "execution_count": 221,
   "metadata": {},
   "outputs": [
    {
     "data": {
      "text/plain": "Index(['gpuName', 'G3Dmark', 'G2Dmark', 'price', 'gpuValue', 'TDP',\n       'powerPerformance', 'testDate', 'category'],\n      dtype='object')"
     },
     "execution_count": 221,
     "metadata": {},
     "output_type": "execute_result"
    }
   ],
   "source": [
    "df.columns"
   ]
  },
  {
   "cell_type": "code",
   "execution_count": 222,
   "metadata": {},
   "outputs": [
    {
     "data": {
      "text/plain": "<AxesSubplot:xlabel='G3Dmark', ylabel='price'>"
     },
     "execution_count": 222,
     "metadata": {},
     "output_type": "execute_result"
    },
    {
     "data": {
      "text/plain": "<Figure size 432x288 with 1 Axes>",
      "image/png": "[encoded data removed]"
     },
     "metadata": {
      "needs_background": "light"
     },
     "output_type": "display_data"
    }
   ],
   "source": [
    "sns.scatterplot(x='G3Dmark', y='price', data=df)"
   ]
  },
  {
   "cell_type": "code",
   "execution_count": 223,
   "metadata": {},
   "outputs": [
    {
     "data": {
      "text/plain": "<AxesSubplot:xlabel='G2Dmark', ylabel='price'>"
     },
     "execution_count": 223,
     "metadata": {},
     "output_type": "execute_result"
    },
    {
     "data": {
      "text/plain": "<Figure size 432x288 with 1 Axes>",
      "image/png": "[encoded data removed]"
     },
     "metadata": {
      "needs_background": "light"
     },
     "output_type": "display_data"
    }
   ],
   "source": [
    "sns.scatterplot(x='G2Dmark', y='price', data=df)"
   ]
  },
  {
   "cell_type": "code",
   "execution_count": 224,
   "metadata": {},
   "outputs": [
    {
     "data": {
      "text/plain": "array([2022, 2021, 2020, 2018, 2019, 2017, 2016, 2015, 2014, 2013, 2012,\n       2010, 2011, 2009], dtype=int64)"
     },
     "execution_count": 224,
     "metadata": {},
     "output_type": "execute_result"
    }
   ],
   "source": [
    "df.testDate.unique()"
   ]
  },
  {
   "cell_type": "code",
   "execution_count": 225,
   "metadata": {},
   "outputs": [
    {
     "data": {
      "text/plain": "<AxesSubplot:ylabel='Frequency'>"
     },
     "execution_count": 225,
     "metadata": {},
     "output_type": "execute_result"
    },
    {
     "data": {
      "text/plain": "<Figure size 432x288 with 1 Axes>",
      "image/png": "[encoded data removed]"
     },
     "metadata": {
      "needs_background": "light"
     },
     "output_type": "display_data"
    }
   ],
   "source": [
    "df['testDate'].plot(kind='hist')"
   ]
  },
  {
   "cell_type": "markdown",
   "metadata": {},
   "source": [
    "# Data Cleaning"
   ]
  },
  {
   "cell_type": "markdown",
   "metadata": {},
   "source": [
    "### Model for price"
   ]
  },
  {
   "cell_type": "code",
   "execution_count": 226,
   "metadata": {},
   "outputs": [
    {
     "data": {
      "text/plain": "Index(['gpuName', 'G3Dmark', 'G2Dmark', 'price', 'gpuValue', 'TDP',\n       'powerPerformance', 'testDate', 'category'],\n      dtype='object')"
     },
     "execution_count": 226,
     "metadata": {},
     "output_type": "execute_result"
    }
   ],
   "source": [
    "df.columns"
   ]
  },
  {
   "cell_type": "code",
   "execution_count": 227,
   "metadata": {},
   "outputs": [],
   "source": [
    "price_df = df[df['price'].isnull() == False]"
   ]
  },
  {
   "cell_type": "code",
   "execution_count": 228,
   "metadata": {},
   "outputs": [
    {
     "data": {
      "text/plain": "               gpuName  G3Dmark  G2Dmark    price  gpuValue    TDP  \\\n0  GeForce RTX 3090 Ti    29094     1117  2099.99     13.85  450.0   \n1  GeForce RTX 3080 Ti    26887     1031  1199.99     22.41  350.0   \n2     GeForce RTX 3090    26395      999  1749.99     15.08  350.0   \n3    Radeon RX 6900 XT    25458     1102  1120.31     22.72  300.0   \n4     GeForce RTX 3080    24853     1003   999.00     24.88  320.0   \n\n   powerPerformance  testDate category  \n0             64.65      2022  Unknown  \n1             76.82      2021  Desktop  \n2             75.41      2020  Desktop  \n3             84.86      2020  Desktop  \n4             77.66      2020  Desktop  ",
      "text/html": "<div>\n<style scoped>\n    .dataframe tbody tr th:only-of-type {\n        vertical-align: middle;\n    }\n\n    .dataframe tbody tr th {\n        vertical-align: top;\n    }\n\n    .dataframe thead th {\n        text-align: right;\n    }\n</style>\n<table border=\"1\" class=\"dataframe\">\n  <thead>\n    <tr style=\"text-align: right;\">\n      <th></th>\n      <th>gpuName</th>\n      <th>G3Dmark</th>\n      <th>G2Dmark</th>\n      <th>price</th>\n      <th>gpuValue</th>\n      <th>TDP</th>\n      <th>powerPerformance</th>\n      <th>testDate</th>\n      <th>category</th>\n    </tr>\n  </thead>\n  <tbody>\n    <tr>\n      <th>0</th>\n      <td>GeForce RTX 3090 Ti</td>\n      <td>29094</td>\n      <td>1117</td>\n      <td>2099.99</td>\n      <td>13.85</td>\n      <td>450.0</td>\n      <td>64.65</td>\n      <td>2022</td>\n      <td>Unknown</td>\n    </tr>\n    <tr>\n      <th>1</th>\n      <td>GeForce RTX 3080 Ti</td>\n      <td>26887</td>\n      <td>1031</td>\n      <td>1199.99</td>\n      <td>22.41</td>\n      <td>350.0</td>\n      <td>76.82</td>\n      <td>2021</td>\n      <td>Desktop</td>\n    </tr>\n    <tr>\n      <th>2</th>\n      <td>GeForce RTX 3090</td>\n      <td>26395</td>\n      <td>999</td>\n      <td>1749.99</td>\n      <td>15.08</td>\n      <td>350.0</td>\n      <td>75.41</td>\n      <td>2020</td>\n      <td>Desktop</td>\n    </tr>\n    <tr>\n      <th>3</th>\n      <td>Radeon RX 6900 XT</td>\n      <td>25458</td>\n      <td>1102</td>\n      <td>1120.31</td>\n      <td>22.72</td>\n      <td>300.0</td>\n      <td>84.86</td>\n      <td>2020</td>\n      <td>Desktop</td>\n    </tr>\n    <tr>\n      <th>4</th>\n      <td>GeForce RTX 3080</td>\n      <td>24853</td>\n      <td>1003</td>\n      <td>999.00</td>\n      <td>24.88</td>\n      <td>320.0</td>\n      <td>77.66</td>\n      <td>2020</td>\n      <td>Desktop</td>\n    </tr>\n  </tbody>\n</table>\n</div>"
     },
     "execution_count": 228,
     "metadata": {},
     "output_type": "execute_result"
    }
   ],
   "source": [
    "price_df.head()"
   ]
  },
  {
   "cell_type": "code",
   "execution_count": 229,
   "metadata": {},
   "outputs": [
    {
     "name": "stdout",
     "output_type": "stream",
     "text": [
      "<class 'pandas.core.frame.DataFrame'>\n",
      "Int64Index: 553 entries, 0 to 2298\n",
      "Data columns (total 9 columns):\n",
      " #   Column            Non-Null Count  Dtype  \n",
      "---  ------            --------------  -----  \n",
      " 0   gpuName           553 non-null    object \n",
      " 1   G3Dmark           553 non-null    int64  \n",
      " 2   G2Dmark           553 non-null    int64  \n",
      " 3   price             553 non-null    float64\n",
      " 4   gpuValue          553 non-null    float64\n",
      " 5   TDP               387 non-null    float64\n",
      " 6   powerPerformance  387 non-null    float64\n",
      " 7   testDate          553 non-null    int64  \n",
      " 8   category          553 non-null    object \n",
      "dtypes: float64(4), int64(3), object(2)\n",
      "memory usage: 43.2+ KB\n"
     ]
    }
   ],
   "source": [
    "price_df.info()"
   ]
  },
  {
   "cell_type": "code",
   "execution_count": 230,
   "metadata": {},
   "outputs": [
    {
     "data": {
      "text/plain": "Index(['gpuName', 'G3Dmark', 'G2Dmark', 'price', 'gpuValue', 'TDP',\n       'powerPerformance', 'testDate', 'category'],\n      dtype='object')"
     },
     "execution_count": 230,
     "metadata": {},
     "output_type": "execute_result"
    }
   ],
   "source": [
    "df.columns"
   ]
  },
  {
   "cell_type": "code",
   "execution_count": 231,
   "metadata": {},
   "outputs": [
    {
     "name": "stderr",
     "output_type": "stream",
     "text": [
      "C:\\Users\\Deepu Singla\\AppData\\Local\\Temp\\ipykernel_10728\\1292315495.py:1: SettingWithCopyWarning: \n",
      "A value is trying to be set on a copy of a slice from a DataFrame\n",
      "\n",
      "See the caveats in the documentation: https://pandas.pydata.org/pandas-docs/stable/user_guide/indexing.html#returning-a-view-versus-a-copy\n",
      "  price_df.drop(['TDP','powerPerformance'], axis=1, inplace=True)\n"
     ]
    }
   ],
   "source": [
    "price_df.drop(['TDP','powerPerformance'], axis=1, inplace=True)"
   ]
  },
  {
   "cell_type": "code",
   "execution_count": 232,
   "metadata": {},
   "outputs": [
    {
     "name": "stdout",
     "output_type": "stream",
     "text": [
      "<class 'pandas.core.frame.DataFrame'>\n",
      "Int64Index: 553 entries, 0 to 2298\n",
      "Data columns (total 7 columns):\n",
      " #   Column    Non-Null Count  Dtype  \n",
      "---  ------    --------------  -----  \n",
      " 0   gpuName   553 non-null    object \n",
      " 1   G3Dmark   553 non-null    int64  \n",
      " 2   G2Dmark   553 non-null    int64  \n",
      " 3   price     553 non-null    float64\n",
      " 4   gpuValue  553 non-null    float64\n",
      " 5   testDate  553 non-null    int64  \n",
      " 6   category  553 non-null    object \n",
      "dtypes: float64(2), int64(3), object(2)\n",
      "memory usage: 34.6+ KB\n"
     ]
    }
   ],
   "source": [
    "price_df.info()"
   ]
  },
  {
   "cell_type": "code",
   "execution_count": 233,
   "metadata": {},
   "outputs": [],
   "source": [
    "price_X = price_df.drop(['price','gpuValue'], axis=1)\n",
    "price_y = price_df['price']"
   ]
  },
  {
   "cell_type": "code",
   "execution_count": 234,
   "metadata": {},
   "outputs": [],
   "source": [
    "from sklearn.ensemble import RandomForestRegressor"
   ]
  },
  {
   "cell_type": "code",
   "execution_count": 235,
   "metadata": {},
   "outputs": [],
   "source": [
    "price_X = price_X.drop(['gpuName','category'],axis=1)"
   ]
  },
  {
   "cell_type": "code",
   "execution_count": 236,
   "metadata": {},
   "outputs": [],
   "source": [
    "model_price = RandomForestRegressor()"
   ]
  },
  {
   "cell_type": "code",
   "execution_count": 237,
   "metadata": {},
   "outputs": [
    {
     "data": {
      "text/plain": "RandomForestRegressor()",
      "text/html": "<style>#sk-container-id-9 {color: black;background-color: white;}#sk-container-id-9 pre{padding: 0;}#sk-container-id-9 div.sk-toggleable {background-color: white;}#sk-container-id-9 label.sk-toggleable__label {cursor: pointer;display: block;width: 100%;margin-bottom: 0;padding: 0.3em;box-sizing: border-box;text-align: center;}#sk-container-id-9 label.sk-toggleable__label-arrow:before {content: \"▸\";float: left;margin-right: 0.25em;color: #696969;}#sk-container-id-9 label.sk-toggleable__label-arrow:hover:before {color: black;}#sk-container-id-9 div.sk-estimator:hover label.sk-toggleable__label-arrow:before {color: black;}#sk-container-id-9 div.sk-toggleable__content {max-height: 0;max-width: 0;overflow: hidden;text-align: left;background-color: #f0f8ff;}#sk-container-id-9 div.sk-toggleable__content pre {margin: 0.2em;color: black;border-radius: 0.25em;background-color: #f0f8ff;}#sk-container-id-9 input.sk-toggleable__control:checked~div.sk-toggleable__content {max-height: 200px;max-width: 100%;overflow: auto;}#sk-container-id-9 input.sk-toggleable__control:checked~label.sk-toggleable__label-arrow:before {content: \"▾\";}#sk-container-id-9 div.sk-estimator input.sk-toggleable__control:checked~label.sk-toggleable__label {background-color: #d4ebff;}#sk-container-id-9 div.sk-label input.sk-toggleable__control:checked~label.sk-toggleable__label {background-color: #d4ebff;}#sk-container-id-9 input.sk-hidden--visually {border: 0;clip: rect(1px 1px 1px 1px);clip: rect(1px, 1px, 1px, 1px);height: 1px;margin: -1px;overflow: hidden;padding: 0;position: absolute;width: 1px;}#sk-container-id-9 div.sk-estimator {font-family: monospace;background-color: #f0f8ff;border: 1px dotted black;border-radius: 0.25em;box-sizing: border-box;margin-bottom: 0.5em;}#sk-container-id-9 div.sk-estimator:hover {background-color: #d4ebff;}#sk-container-id-9 div.sk-parallel-item::after {content: \"\";width: 100%;border-bottom: 1px solid gray;flex-grow: 1;}#sk-container-id-9 div.sk-label:hover label.sk-toggleable__label {background-color: #d4ebff;}#sk-container-id-9 div.sk-serial::before {content: \"\";position: absolute;border-left: 1px solid gray;box-sizing: border-box;top: 0;bottom: 0;left: 50%;z-index: 0;}#sk-container-id-9 div.sk-serial {display: flex;flex-direction: column;align-items: center;background-color: white;padding-right: 0.2em;padding-left: 0.2em;position: relative;}#sk-container-id-9 div.sk-item {position: relative;z-index: 1;}#sk-container-id-9 div.sk-parallel {display: flex;align-items: stretch;justify-content: center;background-color: white;position: relative;}#sk-container-id-9 div.sk-item::before, #sk-container-id-9 div.sk-parallel-item::before {content: \"\";position: absolute;border-left: 1px solid gray;box-sizing: border-box;top: 0;bottom: 0;left: 50%;z-index: -1;}#sk-container-id-9 div.sk-parallel-item {display: flex;flex-direction: column;z-index: 1;position: relative;background-color: white;}#sk-container-id-9 div.sk-parallel-item:first-child::after {align-self: flex-end;width: 50%;}#sk-container-id-9 div.sk-parallel-item:last-child::after {align-self: flex-start;width: 50%;}#sk-container-id-9 div.sk-parallel-item:only-child::after {width: 0;}#sk-container-id-9 div.sk-dashed-wrapped {border: 1px dashed gray;margin: 0 0.4em 0.5em 0.4em;box-sizing: border-box;padding-bottom: 0.4em;background-color: white;}#sk-container-id-9 div.sk-label label {font-family: monospace;font-weight: bold;display: inline-block;line-height: 1.2em;}#sk-container-id-9 div.sk-label-container {text-align: center;}#sk-container-id-9 div.sk-container {/* jupyter's `normalize.less` sets `[hidden] { display: none; }` but bootstrap.min.css set `[hidden] { display: none !important; }` so we also need the `!important` here to be able to override the default hidden behavior on the sphinx rendered scikit-learn.org. See: https://github.com/scikit-learn/scikit-learn/issues/21755 */display: inline-block !important;position: relative;}#sk-container-id-9 div.sk-text-repr-fallback {display: none;}</style><div id=\"sk-container-id-9\" class=\"sk-top-container\"><div class=\"sk-text-repr-fallback\"><pre>RandomForestRegressor()</pre><b>In a Jupyter environment, please rerun this cell to show the HTML representation or trust the notebook. <br />On GitHub, the HTML representation is unable to render, please try loading this page with nbviewer.org.</b></div><div class=\"sk-container\" hidden><div class=\"sk-item\"><div class=\"sk-estimator sk-toggleable\"><input class=\"sk-toggleable__control sk-hidden--visually\" id=\"sk-estimator-id-9\" type=\"checkbox\" checked><label for=\"sk-estimator-id-9\" class=\"sk-toggleable__label sk-toggleable__label-arrow\">RandomForestRegressor</label><div class=\"sk-toggleable__content\"><pre>RandomForestRegressor()</pre></div></div></div></div></div>"
     },
     "execution_count": 237,
     "metadata": {},
     "output_type": "execute_result"
    }
   ],
   "source": [
    "model_price.fit(price_X, price_y)"
   ]
  },
  {
   "cell_type": "code",
   "execution_count": 238,
   "metadata": {},
   "outputs": [
    {
     "data": {
      "text/plain": "Index(['G3Dmark', 'G2Dmark', 'testDate'], dtype='object')"
     },
     "execution_count": 238,
     "metadata": {},
     "output_type": "execute_result"
    }
   ],
   "source": [
    "price_X.columns"
   ]
  },
  {
   "cell_type": "code",
   "execution_count": 239,
   "metadata": {},
   "outputs": [
    {
     "data": {
      "text/plain": "array([29094,  1117,  2022], dtype=int64)"
     },
     "execution_count": 239,
     "metadata": {},
     "output_type": "execute_result"
    }
   ],
   "source": [
    "np.array(price_X.iloc[0])"
   ]
  },
  {
   "cell_type": "code",
   "execution_count": 240,
   "metadata": {},
   "outputs": [
    {
     "name": "stderr",
     "output_type": "stream",
     "text": [
      "C:\\Users\\Deepu Singla\\PycharmProjects\\gpuRecommender\\venv\\lib\\site-packages\\sklearn\\base.py:450: UserWarning: X does not have valid feature names, but RandomForestRegressor was fitted with feature names\n",
      "  warnings.warn(\n"
     ]
    },
    {
     "data": {
      "text/plain": "array([1736.7726])"
     },
     "execution_count": 240,
     "metadata": {},
     "output_type": "execute_result"
    }
   ],
   "source": [
    "model_price.predict([[2.9094e+04, 1.1170e+03, 2.0220e+03]])"
   ]
  },
  {
   "cell_type": "code",
   "execution_count": 241,
   "metadata": {},
   "outputs": [
    {
     "data": {
      "text/plain": "2099.99"
     },
     "execution_count": 241,
     "metadata": {},
     "output_type": "execute_result"
    }
   ],
   "source": [
    "price_y.iloc[0]"
   ]
  },
  {
   "cell_type": "markdown",
   "metadata": {},
   "source": [
    "* Filling in the null values"
   ]
  },
  {
   "cell_type": "code",
   "execution_count": 242,
   "metadata": {},
   "outputs": [
    {
     "data": {
      "text/plain": "Index(['gpuName', 'G3Dmark', 'G2Dmark', 'price', 'gpuValue', 'TDP',\n       'powerPerformance', 'testDate', 'category'],\n      dtype='object')"
     },
     "execution_count": 242,
     "metadata": {},
     "output_type": "execute_result"
    }
   ],
   "source": [
    "df.columns"
   ]
  },
  {
   "cell_type": "code",
   "execution_count": 243,
   "metadata": {},
   "outputs": [],
   "source": [
    "price_null = df[df['price'].isnull()==True][['G3Dmark', 'G2Dmark', 'testDate']]"
   ]
  },
  {
   "cell_type": "code",
   "execution_count": 244,
   "metadata": {},
   "outputs": [],
   "source": [
    "prediction = model_price.predict(price_null)"
   ]
  },
  {
   "cell_type": "code",
   "execution_count": 245,
   "metadata": {},
   "outputs": [
    {
     "data": {
      "text/plain": "array([ 761.2307, 4367.3654,  789.3504, ...,  714.8847,  681.5746,\n        715.1126])"
     },
     "execution_count": 245,
     "metadata": {},
     "output_type": "execute_result"
    }
   ],
   "source": [
    "prediction"
   ]
  },
  {
   "cell_type": "code",
   "execution_count": 245,
   "metadata": {},
   "outputs": [],
   "source": []
  },
  {
   "cell_type": "code",
   "execution_count": 245,
   "metadata": {},
   "outputs": [],
   "source": []
  },
  {
   "cell_type": "code",
   "execution_count": 246,
   "metadata": {},
   "outputs": [
    {
     "name": "stderr",
     "output_type": "stream",
     "text": [
      "C:\\Users\\Deepu Singla\\AppData\\Local\\Temp\\ipykernel_10728\\2099280297.py:1: SettingWithCopyWarning: \n",
      "A value is trying to be set on a copy of a slice from a DataFrame.\n",
      "Try using .loc[row_indexer,col_indexer] = value instead\n",
      "\n",
      "See the caveats in the documentation: https://pandas.pydata.org/pandas-docs/stable/user_guide/indexing.html#returning-a-view-versus-a-copy\n",
      "  df[df['price'].isnull() == True]['price'] = pd.Series(prediction)\n"
     ]
    }
   ],
   "source": [
    "df[df['price'].isnull() == True]['price'] = pd.Series(prediction)"
   ]
  },
  {
   "cell_type": "code",
   "execution_count": 247,
   "metadata": {},
   "outputs": [
    {
     "name": "stdout",
     "output_type": "stream",
     "text": [
      "<class 'pandas.core.frame.DataFrame'>\n",
      "RangeIndex: 2317 entries, 0 to 2316\n",
      "Data columns (total 9 columns):\n",
      " #   Column            Non-Null Count  Dtype  \n",
      "---  ------            --------------  -----  \n",
      " 0   gpuName           2317 non-null   object \n",
      " 1   G3Dmark           2317 non-null   int64  \n",
      " 2   G2Dmark           2317 non-null   int64  \n",
      " 3   price             553 non-null    float64\n",
      " 4   gpuValue          553 non-null    float64\n",
      " 5   TDP               692 non-null    float64\n",
      " 6   powerPerformance  692 non-null    float64\n",
      " 7   testDate          2317 non-null   int64  \n",
      " 8   category          2317 non-null   object \n",
      "dtypes: float64(4), int64(3), object(2)\n",
      "memory usage: 163.0+ KB\n"
     ]
    }
   ],
   "source": [
    "df.info()"
   ]
  },
  {
   "cell_type": "code",
   "execution_count": 248,
   "metadata": {},
   "outputs": [],
   "source": [
    "nf = df.copy()"
   ]
  },
  {
   "cell_type": "code",
   "execution_count": 249,
   "metadata": {},
   "outputs": [],
   "source": [
    "counter = 0\n",
    "for i in nf[nf['price'].isnull() == True]['price'].index:\n",
    "    nf.loc[i,'price'] = prediction[counter]\n",
    "    counter+=1\n"
   ]
  },
  {
   "cell_type": "code",
   "execution_count": 250,
   "metadata": {},
   "outputs": [
    {
     "name": "stdout",
     "output_type": "stream",
     "text": [
      "<class 'pandas.core.frame.DataFrame'>\n",
      "RangeIndex: 2317 entries, 0 to 2316\n",
      "Data columns (total 9 columns):\n",
      " #   Column            Non-Null Count  Dtype  \n",
      "---  ------            --------------  -----  \n",
      " 0   gpuName           2317 non-null   object \n",
      " 1   G3Dmark           2317 non-null   int64  \n",
      " 2   G2Dmark           2317 non-null   int64  \n",
      " 3   price             2317 non-null   float64\n",
      " 4   gpuValue          553 non-null    float64\n",
      " 5   TDP               692 non-null    float64\n",
      " 6   powerPerformance  692 non-null    float64\n",
      " 7   testDate          2317 non-null   int64  \n",
      " 8   category          2317 non-null   object \n",
      "dtypes: float64(4), int64(3), object(2)\n",
      "memory usage: 163.0+ KB\n"
     ]
    }
   ],
   "source": [
    "nf[nf['price'].isnull() == True]['price']\n",
    "nf.info()"
   ]
  },
  {
   "cell_type": "code",
   "execution_count": 251,
   "metadata": {},
   "outputs": [
    {
     "data": {
      "text/plain": "gpuName             TITAN Xp\nG3Dmark                19508\nG2Dmark                  992\nprice               761.2307\ngpuValue                 NaN\nTDP                    250.0\npowerPerformance       78.03\ntestDate                2020\ncategory             Unknown\nName: 17, dtype: object"
     },
     "execution_count": 251,
     "metadata": {},
     "output_type": "execute_result"
    }
   ],
   "source": [
    "nf.iloc[17]"
   ]
  },
  {
   "cell_type": "code",
   "execution_count": 252,
   "metadata": {},
   "outputs": [],
   "source": [
    "df = nf"
   ]
  },
  {
   "cell_type": "code",
   "execution_count": 253,
   "metadata": {},
   "outputs": [
    {
     "name": "stdout",
     "output_type": "stream",
     "text": [
      "<class 'pandas.core.frame.DataFrame'>\n",
      "RangeIndex: 2317 entries, 0 to 2316\n",
      "Data columns (total 9 columns):\n",
      " #   Column            Non-Null Count  Dtype  \n",
      "---  ------            --------------  -----  \n",
      " 0   gpuName           2317 non-null   object \n",
      " 1   G3Dmark           2317 non-null   int64  \n",
      " 2   G2Dmark           2317 non-null   int64  \n",
      " 3   price             2317 non-null   float64\n",
      " 4   gpuValue          553 non-null    float64\n",
      " 5   TDP               692 non-null    float64\n",
      " 6   powerPerformance  692 non-null    float64\n",
      " 7   testDate          2317 non-null   int64  \n",
      " 8   category          2317 non-null   object \n",
      "dtypes: float64(4), int64(3), object(2)\n",
      "memory usage: 163.0+ KB\n"
     ]
    }
   ],
   "source": [
    "df.info()"
   ]
  },
  {
   "cell_type": "markdown",
   "metadata": {},
   "source": [
    "### Model for gpuValue"
   ]
  },
  {
   "cell_type": "code",
   "execution_count": 254,
   "metadata": {},
   "outputs": [
    {
     "data": {
      "text/plain": "               gpuName  G3Dmark  G2Dmark    price  gpuValue  testDate category\n0  GeForce RTX 3090 Ti    29094     1117  2099.99     13.85      2022  Unknown\n1  GeForce RTX 3080 Ti    26887     1031  1199.99     22.41      2021  Desktop\n2     GeForce RTX 3090    26395      999  1749.99     15.08      2020  Desktop\n3    Radeon RX 6900 XT    25458     1102  1120.31     22.72      2020  Desktop\n4     GeForce RTX 3080    24853     1003   999.00     24.88      2020  Desktop",
      "text/html": "<div>\n<style scoped>\n    .dataframe tbody tr th:only-of-type {\n        vertical-align: middle;\n    }\n\n    .dataframe tbody tr th {\n        vertical-align: top;\n    }\n\n    .dataframe thead th {\n        text-align: right;\n    }\n</style>\n<table border=\"1\" class=\"dataframe\">\n  <thead>\n    <tr style=\"text-align: right;\">\n      <th></th>\n      <th>gpuName</th>\n      <th>G3Dmark</th>\n      <th>G2Dmark</th>\n      <th>price</th>\n      <th>gpuValue</th>\n      <th>testDate</th>\n      <th>category</th>\n    </tr>\n  </thead>\n  <tbody>\n    <tr>\n      <th>0</th>\n      <td>GeForce RTX 3090 Ti</td>\n      <td>29094</td>\n      <td>1117</td>\n      <td>2099.99</td>\n      <td>13.85</td>\n      <td>2022</td>\n      <td>Unknown</td>\n    </tr>\n    <tr>\n      <th>1</th>\n      <td>GeForce RTX 3080 Ti</td>\n      <td>26887</td>\n      <td>1031</td>\n      <td>1199.99</td>\n      <td>22.41</td>\n      <td>2021</td>\n      <td>Desktop</td>\n    </tr>\n    <tr>\n      <th>2</th>\n      <td>GeForce RTX 3090</td>\n      <td>26395</td>\n      <td>999</td>\n      <td>1749.99</td>\n      <td>15.08</td>\n      <td>2020</td>\n      <td>Desktop</td>\n    </tr>\n    <tr>\n      <th>3</th>\n      <td>Radeon RX 6900 XT</td>\n      <td>25458</td>\n      <td>1102</td>\n      <td>1120.31</td>\n      <td>22.72</td>\n      <td>2020</td>\n      <td>Desktop</td>\n    </tr>\n    <tr>\n      <th>4</th>\n      <td>GeForce RTX 3080</td>\n      <td>24853</td>\n      <td>1003</td>\n      <td>999.00</td>\n      <td>24.88</td>\n      <td>2020</td>\n      <td>Desktop</td>\n    </tr>\n  </tbody>\n</table>\n</div>"
     },
     "execution_count": 254,
     "metadata": {},
     "output_type": "execute_result"
    }
   ],
   "source": [
    "price_df.head()"
   ]
  },
  {
   "cell_type": "code",
   "execution_count": 255,
   "metadata": {},
   "outputs": [],
   "source": [
    "price_df.drop(['category','gpuName'], axis=1, inplace=True)"
   ]
  },
  {
   "cell_type": "code",
   "execution_count": 256,
   "metadata": {},
   "outputs": [
    {
     "name": "stdout",
     "output_type": "stream",
     "text": [
      "<class 'pandas.core.frame.DataFrame'>\n",
      "Int64Index: 553 entries, 0 to 2298\n",
      "Data columns (total 5 columns):\n",
      " #   Column    Non-Null Count  Dtype  \n",
      "---  ------    --------------  -----  \n",
      " 0   G3Dmark   553 non-null    int64  \n",
      " 1   G2Dmark   553 non-null    int64  \n",
      " 2   price     553 non-null    float64\n",
      " 3   gpuValue  553 non-null    float64\n",
      " 4   testDate  553 non-null    int64  \n",
      "dtypes: float64(2), int64(3)\n",
      "memory usage: 25.9 KB\n"
     ]
    }
   ],
   "source": [
    "price_df.info()"
   ]
  },
  {
   "cell_type": "code",
   "execution_count": 257,
   "metadata": {},
   "outputs": [],
   "source": [
    "X = price_df.drop('gpuValue',axis=1)\n",
    "y = price_df['gpuValue']"
   ]
  },
  {
   "cell_type": "code",
   "execution_count": 258,
   "metadata": {},
   "outputs": [],
   "source": [
    "model_gpuValue = RandomForestRegressor()"
   ]
  },
  {
   "cell_type": "code",
   "execution_count": 259,
   "metadata": {},
   "outputs": [
    {
     "data": {
      "text/plain": "RandomForestRegressor()",
      "text/html": "<style>#sk-container-id-10 {color: black;background-color: white;}#sk-container-id-10 pre{padding: 0;}#sk-container-id-10 div.sk-toggleable {background-color: white;}#sk-container-id-10 label.sk-toggleable__label {cursor: pointer;display: block;width: 100%;margin-bottom: 0;padding: 0.3em;box-sizing: border-box;text-align: center;}#sk-container-id-10 label.sk-toggleable__label-arrow:before {content: \"▸\";float: left;margin-right: 0.25em;color: #696969;}#sk-container-id-10 label.sk-toggleable__label-arrow:hover:before {color: black;}#sk-container-id-10 div.sk-estimator:hover label.sk-toggleable__label-arrow:before {color: black;}#sk-container-id-10 div.sk-toggleable__content {max-height: 0;max-width: 0;overflow: hidden;text-align: left;background-color: #f0f8ff;}#sk-container-id-10 div.sk-toggleable__content pre {margin: 0.2em;color: black;border-radius: 0.25em;background-color: #f0f8ff;}#sk-container-id-10 input.sk-toggleable__control:checked~div.sk-toggleable__content {max-height: 200px;max-width: 100%;overflow: auto;}#sk-container-id-10 input.sk-toggleable__control:checked~label.sk-toggleable__label-arrow:before {content: \"▾\";}#sk-container-id-10 div.sk-estimator input.sk-toggleable__control:checked~label.sk-toggleable__label {background-color: #d4ebff;}#sk-container-id-10 div.sk-label input.sk-toggleable__control:checked~label.sk-toggleable__label {background-color: #d4ebff;}#sk-container-id-10 input.sk-hidden--visually {border: 0;clip: rect(1px 1px 1px 1px);clip: rect(1px, 1px, 1px, 1px);height: 1px;margin: -1px;overflow: hidden;padding: 0;position: absolute;width: 1px;}#sk-container-id-10 div.sk-estimator {font-family: monospace;background-color: #f0f8ff;border: 1px dotted black;border-radius: 0.25em;box-sizing: border-box;margin-bottom: 0.5em;}#sk-container-id-10 div.sk-estimator:hover {background-color: #d4ebff;}#sk-container-id-10 div.sk-parallel-item::after {content: \"\";width: 100%;border-bottom: 1px solid gray;flex-grow: 1;}#sk-container-id-10 div.sk-label:hover label.sk-toggleable__label {background-color: #d4ebff;}#sk-container-id-10 div.sk-serial::before {content: \"\";position: absolute;border-left: 1px solid gray;box-sizing: border-box;top: 0;bottom: 0;left: 50%;z-index: 0;}#sk-container-id-10 div.sk-serial {display: flex;flex-direction: column;align-items: center;background-color: white;padding-right: 0.2em;padding-left: 0.2em;position: relative;}#sk-container-id-10 div.sk-item {position: relative;z-index: 1;}#sk-container-id-10 div.sk-parallel {display: flex;align-items: stretch;justify-content: center;background-color: white;position: relative;}#sk-container-id-10 div.sk-item::before, #sk-container-id-10 div.sk-parallel-item::before {content: \"\";position: absolute;border-left: 1px solid gray;box-sizing: border-box;top: 0;bottom: 0;left: 50%;z-index: -1;}#sk-container-id-10 div.sk-parallel-item {display: flex;flex-direction: column;z-index: 1;position: relative;background-color: white;}#sk-container-id-10 div.sk-parallel-item:first-child::after {align-self: flex-end;width: 50%;}#sk-container-id-10 div.sk-parallel-item:last-child::after {align-self: flex-start;width: 50%;}#sk-container-id-10 div.sk-parallel-item:only-child::after {width: 0;}#sk-container-id-10 div.sk-dashed-wrapped {border: 1px dashed gray;margin: 0 0.4em 0.5em 0.4em;box-sizing: border-box;padding-bottom: 0.4em;background-color: white;}#sk-container-id-10 div.sk-label label {font-family: monospace;font-weight: bold;display: inline-block;line-height: 1.2em;}#sk-container-id-10 div.sk-label-container {text-align: center;}#sk-container-id-10 div.sk-container {/* jupyter's `normalize.less` sets `[hidden] { display: none; }` but bootstrap.min.css set `[hidden] { display: none !important; }` so we also need the `!important` here to be able to override the default hidden behavior on the sphinx rendered scikit-learn.org. See: https://github.com/scikit-learn/scikit-learn/issues/21755 */display: inline-block !important;position: relative;}#sk-container-id-10 div.sk-text-repr-fallback {display: none;}</style><div id=\"sk-container-id-10\" class=\"sk-top-container\"><div class=\"sk-text-repr-fallback\"><pre>RandomForestRegressor()</pre><b>In a Jupyter environment, please rerun this cell to show the HTML representation or trust the notebook. <br />On GitHub, the HTML representation is unable to render, please try loading this page with nbviewer.org.</b></div><div class=\"sk-container\" hidden><div class=\"sk-item\"><div class=\"sk-estimator sk-toggleable\"><input class=\"sk-toggleable__control sk-hidden--visually\" id=\"sk-estimator-id-10\" type=\"checkbox\" checked><label for=\"sk-estimator-id-10\" class=\"sk-toggleable__label sk-toggleable__label-arrow\">RandomForestRegressor</label><div class=\"sk-toggleable__content\"><pre>RandomForestRegressor()</pre></div></div></div></div></div>"
     },
     "execution_count": 259,
     "metadata": {},
     "output_type": "execute_result"
    }
   ],
   "source": [
    "model_gpuValue.fit(X,y)"
   ]
  },
  {
   "cell_type": "code",
   "execution_count": 260,
   "metadata": {},
   "outputs": [
    {
     "data": {
      "text/plain": "Index(['G3Dmark', 'G2Dmark', 'price', 'testDate'], dtype='object')"
     },
     "execution_count": 260,
     "metadata": {},
     "output_type": "execute_result"
    }
   ],
   "source": [
    "X.columns"
   ]
  },
  {
   "cell_type": "code",
   "execution_count": 261,
   "metadata": {},
   "outputs": [
    {
     "data": {
      "text/plain": "      G3Dmark  G2Dmark      price  testDate\n17      19508      992   761.2307      2020\n18      19507      780  4367.3654      2022\n25      18721      924   789.3504      2017\n26      18490      719  3150.5928      2022\n31      16988     1086   605.4469      2018\n...       ...      ...        ...       ...\n2312        1      107   722.5234      2010\n2313        1      143   681.5746      2009\n2314        1       40   714.8847      2009\n2315        1      142   681.5746      2009\n2316        1       41   715.1126      2009\n\n[1764 rows x 4 columns]",
      "text/html": "<div>\n<style scoped>\n    .dataframe tbody tr th:only-of-type {\n        vertical-align: middle;\n    }\n\n    .dataframe tbody tr th {\n        vertical-align: top;\n    }\n\n    .dataframe thead th {\n        text-align: right;\n    }\n</style>\n<table border=\"1\" class=\"dataframe\">\n  <thead>\n    <tr style=\"text-align: right;\">\n      <th></th>\n      <th>G3Dmark</th>\n      <th>G2Dmark</th>\n      <th>price</th>\n      <th>testDate</th>\n    </tr>\n  </thead>\n  <tbody>\n    <tr>\n      <th>17</th>\n      <td>19508</td>\n      <td>992</td>\n      <td>761.2307</td>\n      <td>2020</td>\n    </tr>\n    <tr>\n      <th>18</th>\n      <td>19507</td>\n      <td>780</td>\n      <td>4367.3654</td>\n      <td>2022</td>\n    </tr>\n    <tr>\n      <th>25</th>\n      <td>18721</td>\n      <td>924</td>\n      <td>789.3504</td>\n      <td>2017</td>\n    </tr>\n    <tr>\n      <th>26</th>\n      <td>18490</td>\n      <td>719</td>\n      <td>3150.5928</td>\n      <td>2022</td>\n    </tr>\n    <tr>\n      <th>31</th>\n      <td>16988</td>\n      <td>1086</td>\n      <td>605.4469</td>\n      <td>2018</td>\n    </tr>\n    <tr>\n      <th>...</th>\n      <td>...</td>\n      <td>...</td>\n      <td>...</td>\n      <td>...</td>\n    </tr>\n    <tr>\n      <th>2312</th>\n      <td>1</td>\n      <td>107</td>\n      <td>722.5234</td>\n      <td>2010</td>\n    </tr>\n    <tr>\n      <th>2313</th>\n      <td>1</td>\n      <td>143</td>\n      <td>681.5746</td>\n      <td>2009</td>\n    </tr>\n    <tr>\n      <th>2314</th>\n      <td>1</td>\n      <td>40</td>\n      <td>714.8847</td>\n      <td>2009</td>\n    </tr>\n    <tr>\n      <th>2315</th>\n      <td>1</td>\n      <td>142</td>\n      <td>681.5746</td>\n      <td>2009</td>\n    </tr>\n    <tr>\n      <th>2316</th>\n      <td>1</td>\n      <td>41</td>\n      <td>715.1126</td>\n      <td>2009</td>\n    </tr>\n  </tbody>\n</table>\n<p>1764 rows × 4 columns</p>\n</div>"
     },
     "execution_count": 261,
     "metadata": {},
     "output_type": "execute_result"
    }
   ],
   "source": [
    "df[df['gpuValue'].isnull()==True][['G3Dmark', 'G2Dmark', 'price', 'testDate']]"
   ]
  },
  {
   "cell_type": "code",
   "execution_count": 262,
   "metadata": {},
   "outputs": [],
   "source": [
    "prediction = model_gpuValue.predict(df[df['gpuValue'].isnull()==True][['G3Dmark', 'G2Dmark', 'price', 'testDate']])"
   ]
  },
  {
   "cell_type": "code",
   "execution_count": 263,
   "metadata": {},
   "outputs": [
    {
     "data": {
      "text/plain": "array([2.83368e+01, 4.54830e+00, 2.60006e+01, ..., 1.04000e-02,\n       9.60000e-03, 1.04000e-02])"
     },
     "execution_count": 263,
     "metadata": {},
     "output_type": "execute_result"
    }
   ],
   "source": [
    "prediction"
   ]
  },
  {
   "cell_type": "code",
   "execution_count": 264,
   "metadata": {},
   "outputs": [],
   "source": [
    "counter = 0\n",
    "for i in df[df['gpuValue'].isnull() == True]['gpuValue'].index:\n",
    "    df.loc[i,'gpuValue'] = prediction[counter]\n",
    "    counter+=1"
   ]
  },
  {
   "cell_type": "code",
   "execution_count": 265,
   "metadata": {},
   "outputs": [
    {
     "name": "stdout",
     "output_type": "stream",
     "text": [
      "<class 'pandas.core.frame.DataFrame'>\n",
      "RangeIndex: 2317 entries, 0 to 2316\n",
      "Data columns (total 9 columns):\n",
      " #   Column            Non-Null Count  Dtype  \n",
      "---  ------            --------------  -----  \n",
      " 0   gpuName           2317 non-null   object \n",
      " 1   G3Dmark           2317 non-null   int64  \n",
      " 2   G2Dmark           2317 non-null   int64  \n",
      " 3   price             2317 non-null   float64\n",
      " 4   gpuValue          2317 non-null   float64\n",
      " 5   TDP               692 non-null    float64\n",
      " 6   powerPerformance  692 non-null    float64\n",
      " 7   testDate          2317 non-null   int64  \n",
      " 8   category          2317 non-null   object \n",
      "dtypes: float64(4), int64(3), object(2)\n",
      "memory usage: 163.0+ KB\n"
     ]
    }
   ],
   "source": [
    "df.info()"
   ]
  },
  {
   "cell_type": "markdown",
   "metadata": {},
   "source": [
    "### Model for filling of TDP"
   ]
  },
  {
   "cell_type": "code",
   "execution_count": 266,
   "metadata": {},
   "outputs": [],
   "source": [
    "data3 = df[df['TDP'].isnull() == False]"
   ]
  },
  {
   "cell_type": "code",
   "execution_count": 267,
   "metadata": {},
   "outputs": [
    {
     "data": {
      "text/plain": "               gpuName  G3Dmark  G2Dmark    price  gpuValue    TDP  \\\n0  GeForce RTX 3090 Ti    29094     1117  2099.99     13.85  450.0   \n1  GeForce RTX 3080 Ti    26887     1031  1199.99     22.41  350.0   \n2     GeForce RTX 3090    26395      999  1749.99     15.08  350.0   \n3    Radeon RX 6900 XT    25458     1102  1120.31     22.72  300.0   \n4     GeForce RTX 3080    24853     1003   999.00     24.88  320.0   \n\n   powerPerformance  testDate category  \n0             64.65      2022  Unknown  \n1             76.82      2021  Desktop  \n2             75.41      2020  Desktop  \n3             84.86      2020  Desktop  \n4             77.66      2020  Desktop  ",
      "text/html": "<div>\n<style scoped>\n    .dataframe tbody tr th:only-of-type {\n        vertical-align: middle;\n    }\n\n    .dataframe tbody tr th {\n        vertical-align: top;\n    }\n\n    .dataframe thead th {\n        text-align: right;\n    }\n</style>\n<table border=\"1\" class=\"dataframe\">\n  <thead>\n    <tr style=\"text-align: right;\">\n      <th></th>\n      <th>gpuName</th>\n      <th>G3Dmark</th>\n      <th>G2Dmark</th>\n      <th>price</th>\n      <th>gpuValue</th>\n      <th>TDP</th>\n      <th>powerPerformance</th>\n      <th>testDate</th>\n      <th>category</th>\n    </tr>\n  </thead>\n  <tbody>\n    <tr>\n      <th>0</th>\n      <td>GeForce RTX 3090 Ti</td>\n      <td>29094</td>\n      <td>1117</td>\n      <td>2099.99</td>\n      <td>13.85</td>\n      <td>450.0</td>\n      <td>64.65</td>\n      <td>2022</td>\n      <td>Unknown</td>\n    </tr>\n    <tr>\n      <th>1</th>\n      <td>GeForce RTX 3080 Ti</td>\n      <td>26887</td>\n      <td>1031</td>\n      <td>1199.99</td>\n      <td>22.41</td>\n      <td>350.0</td>\n      <td>76.82</td>\n      <td>2021</td>\n      <td>Desktop</td>\n    </tr>\n    <tr>\n      <th>2</th>\n      <td>GeForce RTX 3090</td>\n      <td>26395</td>\n      <td>999</td>\n      <td>1749.99</td>\n      <td>15.08</td>\n      <td>350.0</td>\n      <td>75.41</td>\n      <td>2020</td>\n      <td>Desktop</td>\n    </tr>\n    <tr>\n      <th>3</th>\n      <td>Radeon RX 6900 XT</td>\n      <td>25458</td>\n      <td>1102</td>\n      <td>1120.31</td>\n      <td>22.72</td>\n      <td>300.0</td>\n      <td>84.86</td>\n      <td>2020</td>\n      <td>Desktop</td>\n    </tr>\n    <tr>\n      <th>4</th>\n      <td>GeForce RTX 3080</td>\n      <td>24853</td>\n      <td>1003</td>\n      <td>999.00</td>\n      <td>24.88</td>\n      <td>320.0</td>\n      <td>77.66</td>\n      <td>2020</td>\n      <td>Desktop</td>\n    </tr>\n  </tbody>\n</table>\n</div>"
     },
     "execution_count": 267,
     "metadata": {},
     "output_type": "execute_result"
    }
   ],
   "source": [
    "data3.head()"
   ]
  },
  {
   "cell_type": "code",
   "execution_count": 268,
   "metadata": {},
   "outputs": [
    {
     "data": {
      "text/plain": "Index(['gpuName', 'G3Dmark', 'G2Dmark', 'price', 'gpuValue', 'TDP',\n       'powerPerformance', 'testDate', 'category'],\n      dtype='object')"
     },
     "execution_count": 268,
     "metadata": {},
     "output_type": "execute_result"
    }
   ],
   "source": [
    "data3.columns"
   ]
  },
  {
   "cell_type": "code",
   "execution_count": 269,
   "metadata": {},
   "outputs": [],
   "source": [
    "data3 = data3[['G3Dmark', 'G2Dmark', 'price', 'gpuValue', 'TDP', 'powerPerformance', 'testDate']]"
   ]
  },
  {
   "cell_type": "code",
   "execution_count": 270,
   "metadata": {},
   "outputs": [
    {
     "data": {
      "text/plain": "   G3Dmark  G2Dmark    price  gpuValue    TDP  powerPerformance  testDate\n0    29094     1117  2099.99     13.85  450.0             64.65      2022\n1    26887     1031  1199.99     22.41  350.0             76.82      2021\n2    26395      999  1749.99     15.08  350.0             75.41      2020\n3    25458     1102  1120.31     22.72  300.0             84.86      2020\n4    24853     1003   999.00     24.88  320.0             77.66      2020",
      "text/html": "<div>\n<style scoped>\n    .dataframe tbody tr th:only-of-type {\n        vertical-align: middle;\n    }\n\n    .dataframe tbody tr th {\n        vertical-align: top;\n    }\n\n    .dataframe thead th {\n        text-align: right;\n    }\n</style>\n<table border=\"1\" class=\"dataframe\">\n  <thead>\n    <tr style=\"text-align: right;\">\n      <th></th>\n      <th>G3Dmark</th>\n      <th>G2Dmark</th>\n      <th>price</th>\n      <th>gpuValue</th>\n      <th>TDP</th>\n      <th>powerPerformance</th>\n      <th>testDate</th>\n    </tr>\n  </thead>\n  <tbody>\n    <tr>\n      <th>0</th>\n      <td>29094</td>\n      <td>1117</td>\n      <td>2099.99</td>\n      <td>13.85</td>\n      <td>450.0</td>\n      <td>64.65</td>\n      <td>2022</td>\n    </tr>\n    <tr>\n      <th>1</th>\n      <td>26887</td>\n      <td>1031</td>\n      <td>1199.99</td>\n      <td>22.41</td>\n      <td>350.0</td>\n      <td>76.82</td>\n      <td>2021</td>\n    </tr>\n    <tr>\n      <th>2</th>\n      <td>26395</td>\n      <td>999</td>\n      <td>1749.99</td>\n      <td>15.08</td>\n      <td>350.0</td>\n      <td>75.41</td>\n      <td>2020</td>\n    </tr>\n    <tr>\n      <th>3</th>\n      <td>25458</td>\n      <td>1102</td>\n      <td>1120.31</td>\n      <td>22.72</td>\n      <td>300.0</td>\n      <td>84.86</td>\n      <td>2020</td>\n    </tr>\n    <tr>\n      <th>4</th>\n      <td>24853</td>\n      <td>1003</td>\n      <td>999.00</td>\n      <td>24.88</td>\n      <td>320.0</td>\n      <td>77.66</td>\n      <td>2020</td>\n    </tr>\n  </tbody>\n</table>\n</div>"
     },
     "execution_count": 270,
     "metadata": {},
     "output_type": "execute_result"
    }
   ],
   "source": [
    "data3.head()"
   ]
  },
  {
   "cell_type": "code",
   "execution_count": 271,
   "metadata": {},
   "outputs": [],
   "source": [
    "X = data3.drop(['TDP','powerPerformance'], axis=1)\n",
    "y = data3['TDP']"
   ]
  },
  {
   "cell_type": "code",
   "execution_count": 272,
   "metadata": {},
   "outputs": [],
   "source": [
    "model_tdp = RandomForestRegressor()"
   ]
  },
  {
   "cell_type": "code",
   "execution_count": 273,
   "metadata": {},
   "outputs": [
    {
     "data": {
      "text/plain": "RandomForestRegressor()",
      "text/html": "<style>#sk-container-id-11 {color: black;background-color: white;}#sk-container-id-11 pre{padding: 0;}#sk-container-id-11 div.sk-toggleable {background-color: white;}#sk-container-id-11 label.sk-toggleable__label {cursor: pointer;display: block;width: 100%;margin-bottom: 0;padding: 0.3em;box-sizing: border-box;text-align: center;}#sk-container-id-11 label.sk-toggleable__label-arrow:before {content: \"▸\";float: left;margin-right: 0.25em;color: #696969;}#sk-container-id-11 label.sk-toggleable__label-arrow:hover:before {color: black;}#sk-container-id-11 div.sk-estimator:hover label.sk-toggleable__label-arrow:before {color: black;}#sk-container-id-11 div.sk-toggleable__content {max-height: 0;max-width: 0;overflow: hidden;text-align: left;background-color: #f0f8ff;}#sk-container-id-11 div.sk-toggleable__content pre {margin: 0.2em;color: black;border-radius: 0.25em;background-color: #f0f8ff;}#sk-container-id-11 input.sk-toggleable__control:checked~div.sk-toggleable__content {max-height: 200px;max-width: 100%;overflow: auto;}#sk-container-id-11 input.sk-toggleable__control:checked~label.sk-toggleable__label-arrow:before {content: \"▾\";}#sk-container-id-11 div.sk-estimator input.sk-toggleable__control:checked~label.sk-toggleable__label {background-color: #d4ebff;}#sk-container-id-11 div.sk-label input.sk-toggleable__control:checked~label.sk-toggleable__label {background-color: #d4ebff;}#sk-container-id-11 input.sk-hidden--visually {border: 0;clip: rect(1px 1px 1px 1px);clip: rect(1px, 1px, 1px, 1px);height: 1px;margin: -1px;overflow: hidden;padding: 0;position: absolute;width: 1px;}#sk-container-id-11 div.sk-estimator {font-family: monospace;background-color: #f0f8ff;border: 1px dotted black;border-radius: 0.25em;box-sizing: border-box;margin-bottom: 0.5em;}#sk-container-id-11 div.sk-estimator:hover {background-color: #d4ebff;}#sk-container-id-11 div.sk-parallel-item::after {content: \"\";width: 100%;border-bottom: 1px solid gray;flex-grow: 1;}#sk-container-id-11 div.sk-label:hover label.sk-toggleable__label {background-color: #d4ebff;}#sk-container-id-11 div.sk-serial::before {content: \"\";position: absolute;border-left: 1px solid gray;box-sizing: border-box;top: 0;bottom: 0;left: 50%;z-index: 0;}#sk-container-id-11 div.sk-serial {display: flex;flex-direction: column;align-items: center;background-color: white;padding-right: 0.2em;padding-left: 0.2em;position: relative;}#sk-container-id-11 div.sk-item {position: relative;z-index: 1;}#sk-container-id-11 div.sk-parallel {display: flex;align-items: stretch;justify-content: center;background-color: white;position: relative;}#sk-container-id-11 div.sk-item::before, #sk-container-id-11 div.sk-parallel-item::before {content: \"\";position: absolute;border-left: 1px solid gray;box-sizing: border-box;top: 0;bottom: 0;left: 50%;z-index: -1;}#sk-container-id-11 div.sk-parallel-item {display: flex;flex-direction: column;z-index: 1;position: relative;background-color: white;}#sk-container-id-11 div.sk-parallel-item:first-child::after {align-self: flex-end;width: 50%;}#sk-container-id-11 div.sk-parallel-item:last-child::after {align-self: flex-start;width: 50%;}#sk-container-id-11 div.sk-parallel-item:only-child::after {width: 0;}#sk-container-id-11 div.sk-dashed-wrapped {border: 1px dashed gray;margin: 0 0.4em 0.5em 0.4em;box-sizing: border-box;padding-bottom: 0.4em;background-color: white;}#sk-container-id-11 div.sk-label label {font-family: monospace;font-weight: bold;display: inline-block;line-height: 1.2em;}#sk-container-id-11 div.sk-label-container {text-align: center;}#sk-container-id-11 div.sk-container {/* jupyter's `normalize.less` sets `[hidden] { display: none; }` but bootstrap.min.css set `[hidden] { display: none !important; }` so we also need the `!important` here to be able to override the default hidden behavior on the sphinx rendered scikit-learn.org. See: https://github.com/scikit-learn/scikit-learn/issues/21755 */display: inline-block !important;position: relative;}#sk-container-id-11 div.sk-text-repr-fallback {display: none;}</style><div id=\"sk-container-id-11\" class=\"sk-top-container\"><div class=\"sk-text-repr-fallback\"><pre>RandomForestRegressor()</pre><b>In a Jupyter environment, please rerun this cell to show the HTML representation or trust the notebook. <br />On GitHub, the HTML representation is unable to render, please try loading this page with nbviewer.org.</b></div><div class=\"sk-container\" hidden><div class=\"sk-item\"><div class=\"sk-estimator sk-toggleable\"><input class=\"sk-toggleable__control sk-hidden--visually\" id=\"sk-estimator-id-11\" type=\"checkbox\" checked><label for=\"sk-estimator-id-11\" class=\"sk-toggleable__label sk-toggleable__label-arrow\">RandomForestRegressor</label><div class=\"sk-toggleable__content\"><pre>RandomForestRegressor()</pre></div></div></div></div></div>"
     },
     "execution_count": 273,
     "metadata": {},
     "output_type": "execute_result"
    }
   ],
   "source": [
    "model_tdp.fit(X,y)"
   ]
  },
  {
   "cell_type": "code",
   "execution_count": 274,
   "metadata": {},
   "outputs": [
    {
     "data": {
      "text/plain": "Index(['G3Dmark', 'G2Dmark', 'price', 'gpuValue', 'TDP', 'powerPerformance',\n       'testDate'],\n      dtype='object')"
     },
     "execution_count": 274,
     "metadata": {},
     "output_type": "execute_result"
    }
   ],
   "source": [
    "data3.columns"
   ]
  },
  {
   "cell_type": "code",
   "execution_count": 275,
   "metadata": {},
   "outputs": [
    {
     "data": {
      "text/plain": "Index(['G3Dmark', 'G2Dmark', 'price', 'gpuValue', 'testDate'], dtype='object')"
     },
     "execution_count": 275,
     "metadata": {},
     "output_type": "execute_result"
    }
   ],
   "source": [
    "X.columns"
   ]
  },
  {
   "cell_type": "code",
   "execution_count": 276,
   "metadata": {},
   "outputs": [
    {
     "data": {
      "text/plain": "      G3Dmark  G2Dmark      price  gpuValue  testDate\n42      16235      406  2190.5462    6.2404      2019\n45      15910      604  1955.0641    7.2379      2022\n46      15899      823  1626.4178    9.4725      2022\n55      14738      827  1362.9400    9.4995      2020\n58      14630      948   788.3797   19.4020      2021\n...       ...      ...        ...       ...       ...\n2312        1      107   722.5234    0.0092      2010\n2313        1      143   681.5746    0.0096      2009\n2314        1       40   714.8847    0.0104      2009\n2315        1      142   681.5746    0.0096      2009\n2316        1       41   715.1126    0.0104      2009\n\n[1625 rows x 5 columns]",
      "text/html": "<div>\n<style scoped>\n    .dataframe tbody tr th:only-of-type {\n        vertical-align: middle;\n    }\n\n    .dataframe tbody tr th {\n        vertical-align: top;\n    }\n\n    .dataframe thead th {\n        text-align: right;\n    }\n</style>\n<table border=\"1\" class=\"dataframe\">\n  <thead>\n    <tr style=\"text-align: right;\">\n      <th></th>\n      <th>G3Dmark</th>\n      <th>G2Dmark</th>\n      <th>price</th>\n      <th>gpuValue</th>\n      <th>testDate</th>\n    </tr>\n  </thead>\n  <tbody>\n    <tr>\n      <th>42</th>\n      <td>16235</td>\n      <td>406</td>\n      <td>2190.5462</td>\n      <td>6.2404</td>\n      <td>2019</td>\n    </tr>\n    <tr>\n      <th>45</th>\n      <td>15910</td>\n      <td>604</td>\n      <td>1955.0641</td>\n      <td>7.2379</td>\n      <td>2022</td>\n    </tr>\n    <tr>\n      <th>46</th>\n      <td>15899</td>\n      <td>823</td>\n      <td>1626.4178</td>\n      <td>9.4725</td>\n      <td>2022</td>\n    </tr>\n    <tr>\n      <th>55</th>\n      <td>14738</td>\n      <td>827</td>\n      <td>1362.9400</td>\n      <td>9.4995</td>\n      <td>2020</td>\n    </tr>\n    <tr>\n      <th>58</th>\n      <td>14630</td>\n      <td>948</td>\n      <td>788.3797</td>\n      <td>19.4020</td>\n      <td>2021</td>\n    </tr>\n    <tr>\n      <th>...</th>\n      <td>...</td>\n      <td>...</td>\n      <td>...</td>\n      <td>...</td>\n      <td>...</td>\n    </tr>\n    <tr>\n      <th>2312</th>\n      <td>1</td>\n      <td>107</td>\n      <td>722.5234</td>\n      <td>0.0092</td>\n      <td>2010</td>\n    </tr>\n    <tr>\n      <th>2313</th>\n      <td>1</td>\n      <td>143</td>\n      <td>681.5746</td>\n      <td>0.0096</td>\n      <td>2009</td>\n    </tr>\n    <tr>\n      <th>2314</th>\n      <td>1</td>\n      <td>40</td>\n      <td>714.8847</td>\n      <td>0.0104</td>\n      <td>2009</td>\n    </tr>\n    <tr>\n      <th>2315</th>\n      <td>1</td>\n      <td>142</td>\n      <td>681.5746</td>\n      <td>0.0096</td>\n      <td>2009</td>\n    </tr>\n    <tr>\n      <th>2316</th>\n      <td>1</td>\n      <td>41</td>\n      <td>715.1126</td>\n      <td>0.0104</td>\n      <td>2009</td>\n    </tr>\n  </tbody>\n</table>\n<p>1625 rows × 5 columns</p>\n</div>"
     },
     "execution_count": 276,
     "metadata": {},
     "output_type": "execute_result"
    }
   ],
   "source": [
    "df[df['TDP'].isnull()==True][['G3Dmark', 'G2Dmark', 'price', 'gpuValue', 'testDate']]"
   ]
  },
  {
   "cell_type": "code",
   "execution_count": 277,
   "metadata": {},
   "outputs": [],
   "source": [
    "predictions = model_tdp.predict(df[df['TDP'].isnull()==True][['G3Dmark', 'G2Dmark', 'price', 'gpuValue', 'testDate']])"
   ]
  },
  {
   "cell_type": "code",
   "execution_count": 278,
   "metadata": {},
   "outputs": [
    {
     "data": {
      "text/plain": "1625"
     },
     "execution_count": 278,
     "metadata": {},
     "output_type": "execute_result"
    }
   ],
   "source": [
    "len(predictions)"
   ]
  },
  {
   "cell_type": "code",
   "execution_count": 279,
   "metadata": {},
   "outputs": [],
   "source": [
    "counter = 0\n",
    "for i in df[df['TDP'].isnull() == True]['TDP'].index:\n",
    "    df.loc[i,'TDP'] = predictions[counter]\n",
    "    counter+=1"
   ]
  },
  {
   "cell_type": "code",
   "execution_count": 280,
   "metadata": {},
   "outputs": [
    {
     "name": "stdout",
     "output_type": "stream",
     "text": [
      "<class 'pandas.core.frame.DataFrame'>\n",
      "RangeIndex: 2317 entries, 0 to 2316\n",
      "Data columns (total 9 columns):\n",
      " #   Column            Non-Null Count  Dtype  \n",
      "---  ------            --------------  -----  \n",
      " 0   gpuName           2317 non-null   object \n",
      " 1   G3Dmark           2317 non-null   int64  \n",
      " 2   G2Dmark           2317 non-null   int64  \n",
      " 3   price             2317 non-null   float64\n",
      " 4   gpuValue          2317 non-null   float64\n",
      " 5   TDP               2317 non-null   float64\n",
      " 6   powerPerformance  692 non-null    float64\n",
      " 7   testDate          2317 non-null   int64  \n",
      " 8   category          2317 non-null   object \n",
      "dtypes: float64(4), int64(3), object(2)\n",
      "memory usage: 163.0+ KB\n"
     ]
    }
   ],
   "source": [
    "df.info()"
   ]
  },
  {
   "cell_type": "markdown",
   "metadata": {},
   "source": [
    "### Model for powerPerformance"
   ]
  },
  {
   "cell_type": "code",
   "execution_count": 281,
   "metadata": {},
   "outputs": [],
   "source": [
    "data4 = df[df['powerPerformance'].isnull() == False]"
   ]
  },
  {
   "cell_type": "code",
   "execution_count": 282,
   "metadata": {},
   "outputs": [
    {
     "data": {
      "text/plain": "               gpuName  G3Dmark  G2Dmark    price  gpuValue    TDP  \\\n0  GeForce RTX 3090 Ti    29094     1117  2099.99     13.85  450.0   \n1  GeForce RTX 3080 Ti    26887     1031  1199.99     22.41  350.0   \n2     GeForce RTX 3090    26395      999  1749.99     15.08  350.0   \n3    Radeon RX 6900 XT    25458     1102  1120.31     22.72  300.0   \n4     GeForce RTX 3080    24853     1003   999.00     24.88  320.0   \n\n   powerPerformance  testDate category  \n0             64.65      2022  Unknown  \n1             76.82      2021  Desktop  \n2             75.41      2020  Desktop  \n3             84.86      2020  Desktop  \n4             77.66      2020  Desktop  ",
      "text/html": "<div>\n<style scoped>\n    .dataframe tbody tr th:only-of-type {\n        vertical-align: middle;\n    }\n\n    .dataframe tbody tr th {\n        vertical-align: top;\n    }\n\n    .dataframe thead th {\n        text-align: right;\n    }\n</style>\n<table border=\"1\" class=\"dataframe\">\n  <thead>\n    <tr style=\"text-align: right;\">\n      <th></th>\n      <th>gpuName</th>\n      <th>G3Dmark</th>\n      <th>G2Dmark</th>\n      <th>price</th>\n      <th>gpuValue</th>\n      <th>TDP</th>\n      <th>powerPerformance</th>\n      <th>testDate</th>\n      <th>category</th>\n    </tr>\n  </thead>\n  <tbody>\n    <tr>\n      <th>0</th>\n      <td>GeForce RTX 3090 Ti</td>\n      <td>29094</td>\n      <td>1117</td>\n      <td>2099.99</td>\n      <td>13.85</td>\n      <td>450.0</td>\n      <td>64.65</td>\n      <td>2022</td>\n      <td>Unknown</td>\n    </tr>\n    <tr>\n      <th>1</th>\n      <td>GeForce RTX 3080 Ti</td>\n      <td>26887</td>\n      <td>1031</td>\n      <td>1199.99</td>\n      <td>22.41</td>\n      <td>350.0</td>\n      <td>76.82</td>\n      <td>2021</td>\n      <td>Desktop</td>\n    </tr>\n    <tr>\n      <th>2</th>\n      <td>GeForce RTX 3090</td>\n      <td>26395</td>\n      <td>999</td>\n      <td>1749.99</td>\n      <td>15.08</td>\n      <td>350.0</td>\n      <td>75.41</td>\n      <td>2020</td>\n      <td>Desktop</td>\n    </tr>\n    <tr>\n      <th>3</th>\n      <td>Radeon RX 6900 XT</td>\n      <td>25458</td>\n      <td>1102</td>\n      <td>1120.31</td>\n      <td>22.72</td>\n      <td>300.0</td>\n      <td>84.86</td>\n      <td>2020</td>\n      <td>Desktop</td>\n    </tr>\n    <tr>\n      <th>4</th>\n      <td>GeForce RTX 3080</td>\n      <td>24853</td>\n      <td>1003</td>\n      <td>999.00</td>\n      <td>24.88</td>\n      <td>320.0</td>\n      <td>77.66</td>\n      <td>2020</td>\n      <td>Desktop</td>\n    </tr>\n  </tbody>\n</table>\n</div>"
     },
     "execution_count": 282,
     "metadata": {},
     "output_type": "execute_result"
    }
   ],
   "source": [
    "data4.head()"
   ]
  },
  {
   "cell_type": "code",
   "execution_count": 283,
   "metadata": {},
   "outputs": [
    {
     "name": "stderr",
     "output_type": "stream",
     "text": [
      "C:\\Users\\Deepu Singla\\AppData\\Local\\Temp\\ipykernel_10728\\3081667492.py:1: SettingWithCopyWarning: \n",
      "A value is trying to be set on a copy of a slice from a DataFrame\n",
      "\n",
      "See the caveats in the documentation: https://pandas.pydata.org/pandas-docs/stable/user_guide/indexing.html#returning-a-view-versus-a-copy\n",
      "  data4.drop(['gpuName','category'],axis=1,inplace=True)\n"
     ]
    }
   ],
   "source": [
    "data4.drop(['gpuName','category'],axis=1,inplace=True)"
   ]
  },
  {
   "cell_type": "code",
   "execution_count": 284,
   "metadata": {},
   "outputs": [
    {
     "name": "stdout",
     "output_type": "stream",
     "text": [
      "<class 'pandas.core.frame.DataFrame'>\n",
      "Int64Index: 692 entries, 0 to 2068\n",
      "Data columns (total 7 columns):\n",
      " #   Column            Non-Null Count  Dtype  \n",
      "---  ------            --------------  -----  \n",
      " 0   G3Dmark           692 non-null    int64  \n",
      " 1   G2Dmark           692 non-null    int64  \n",
      " 2   price             692 non-null    float64\n",
      " 3   gpuValue          692 non-null    float64\n",
      " 4   TDP               692 non-null    float64\n",
      " 5   powerPerformance  692 non-null    float64\n",
      " 6   testDate          692 non-null    int64  \n",
      "dtypes: float64(4), int64(3)\n",
      "memory usage: 43.2 KB\n"
     ]
    }
   ],
   "source": [
    "data4.info()"
   ]
  },
  {
   "cell_type": "code",
   "execution_count": 285,
   "metadata": {},
   "outputs": [],
   "source": [
    "X = data4.drop('powerPerformance',axis=1)\n",
    "Y = data4['powerPerformance']"
   ]
  },
  {
   "cell_type": "code",
   "execution_count": 286,
   "metadata": {},
   "outputs": [
    {
     "data": {
      "text/plain": "   G3Dmark  G2Dmark    price  gpuValue    TDP  testDate\n0    29094     1117  2099.99     13.85  450.0      2022\n1    26887     1031  1199.99     22.41  350.0      2021\n2    26395      999  1749.99     15.08  350.0      2020\n3    25458     1102  1120.31     22.72  300.0      2020\n4    24853     1003   999.00     24.88  320.0      2020",
      "text/html": "<div>\n<style scoped>\n    .dataframe tbody tr th:only-of-type {\n        vertical-align: middle;\n    }\n\n    .dataframe tbody tr th {\n        vertical-align: top;\n    }\n\n    .dataframe thead th {\n        text-align: right;\n    }\n</style>\n<table border=\"1\" class=\"dataframe\">\n  <thead>\n    <tr style=\"text-align: right;\">\n      <th></th>\n      <th>G3Dmark</th>\n      <th>G2Dmark</th>\n      <th>price</th>\n      <th>gpuValue</th>\n      <th>TDP</th>\n      <th>testDate</th>\n    </tr>\n  </thead>\n  <tbody>\n    <tr>\n      <th>0</th>\n      <td>29094</td>\n      <td>1117</td>\n      <td>2099.99</td>\n      <td>13.85</td>\n      <td>450.0</td>\n      <td>2022</td>\n    </tr>\n    <tr>\n      <th>1</th>\n      <td>26887</td>\n      <td>1031</td>\n      <td>1199.99</td>\n      <td>22.41</td>\n      <td>350.0</td>\n      <td>2021</td>\n    </tr>\n    <tr>\n      <th>2</th>\n      <td>26395</td>\n      <td>999</td>\n      <td>1749.99</td>\n      <td>15.08</td>\n      <td>350.0</td>\n      <td>2020</td>\n    </tr>\n    <tr>\n      <th>3</th>\n      <td>25458</td>\n      <td>1102</td>\n      <td>1120.31</td>\n      <td>22.72</td>\n      <td>300.0</td>\n      <td>2020</td>\n    </tr>\n    <tr>\n      <th>4</th>\n      <td>24853</td>\n      <td>1003</td>\n      <td>999.00</td>\n      <td>24.88</td>\n      <td>320.0</td>\n      <td>2020</td>\n    </tr>\n  </tbody>\n</table>\n</div>"
     },
     "execution_count": 286,
     "metadata": {},
     "output_type": "execute_result"
    }
   ],
   "source": [
    "X.head()"
   ]
  },
  {
   "cell_type": "code",
   "execution_count": 287,
   "metadata": {},
   "outputs": [
    {
     "data": {
      "text/plain": "0    64.65\n1    76.82\n2    75.41\n3    84.86\n4    77.66\nName: powerPerformance, dtype: float64"
     },
     "execution_count": 287,
     "metadata": {},
     "output_type": "execute_result"
    }
   ],
   "source": [
    "Y.head()"
   ]
  },
  {
   "cell_type": "code",
   "execution_count": 288,
   "metadata": {},
   "outputs": [],
   "source": [
    "model_power = RandomForestRegressor()"
   ]
  },
  {
   "cell_type": "code",
   "execution_count": 289,
   "metadata": {},
   "outputs": [
    {
     "data": {
      "text/plain": "RandomForestRegressor()",
      "text/html": "<style>#sk-container-id-12 {color: black;background-color: white;}#sk-container-id-12 pre{padding: 0;}#sk-container-id-12 div.sk-toggleable {background-color: white;}#sk-container-id-12 label.sk-toggleable__label {cursor: pointer;display: block;width: 100%;margin-bottom: 0;padding: 0.3em;box-sizing: border-box;text-align: center;}#sk-container-id-12 label.sk-toggleable__label-arrow:before {content: \"▸\";float: left;margin-right: 0.25em;color: #696969;}#sk-container-id-12 label.sk-toggleable__label-arrow:hover:before {color: black;}#sk-container-id-12 div.sk-estimator:hover label.sk-toggleable__label-arrow:before {color: black;}#sk-container-id-12 div.sk-toggleable__content {max-height: 0;max-width: 0;overflow: hidden;text-align: left;background-color: #f0f8ff;}#sk-container-id-12 div.sk-toggleable__content pre {margin: 0.2em;color: black;border-radius: 0.25em;background-color: #f0f8ff;}#sk-container-id-12 input.sk-toggleable__control:checked~div.sk-toggleable__content {max-height: 200px;max-width: 100%;overflow: auto;}#sk-container-id-12 input.sk-toggleable__control:checked~label.sk-toggleable__label-arrow:before {content: \"▾\";}#sk-container-id-12 div.sk-estimator input.sk-toggleable__control:checked~label.sk-toggleable__label {background-color: #d4ebff;}#sk-container-id-12 div.sk-label input.sk-toggleable__control:checked~label.sk-toggleable__label {background-color: #d4ebff;}#sk-container-id-12 input.sk-hidden--visually {border: 0;clip: rect(1px 1px 1px 1px);clip: rect(1px, 1px, 1px, 1px);height: 1px;margin: -1px;overflow: hidden;padding: 0;position: absolute;width: 1px;}#sk-container-id-12 div.sk-estimator {font-family: monospace;background-color: #f0f8ff;border: 1px dotted black;border-radius: 0.25em;box-sizing: border-box;margin-bottom: 0.5em;}#sk-container-id-12 div.sk-estimator:hover {background-color: #d4ebff;}#sk-container-id-12 div.sk-parallel-item::after {content: \"\";width: 100%;border-bottom: 1px solid gray;flex-grow: 1;}#sk-container-id-12 div.sk-label:hover label.sk-toggleable__label {background-color: #d4ebff;}#sk-container-id-12 div.sk-serial::before {content: \"\";position: absolute;border-left: 1px solid gray;box-sizing: border-box;top: 0;bottom: 0;left: 50%;z-index: 0;}#sk-container-id-12 div.sk-serial {display: flex;flex-direction: column;align-items: center;background-color: white;padding-right: 0.2em;padding-left: 0.2em;position: relative;}#sk-container-id-12 div.sk-item {position: relative;z-index: 1;}#sk-container-id-12 div.sk-parallel {display: flex;align-items: stretch;justify-content: center;background-color: white;position: relative;}#sk-container-id-12 div.sk-item::before, #sk-container-id-12 div.sk-parallel-item::before {content: \"\";position: absolute;border-left: 1px solid gray;box-sizing: border-box;top: 0;bottom: 0;left: 50%;z-index: -1;}#sk-container-id-12 div.sk-parallel-item {display: flex;flex-direction: column;z-index: 1;position: relative;background-color: white;}#sk-container-id-12 div.sk-parallel-item:first-child::after {align-self: flex-end;width: 50%;}#sk-container-id-12 div.sk-parallel-item:last-child::after {align-self: flex-start;width: 50%;}#sk-container-id-12 div.sk-parallel-item:only-child::after {width: 0;}#sk-container-id-12 div.sk-dashed-wrapped {border: 1px dashed gray;margin: 0 0.4em 0.5em 0.4em;box-sizing: border-box;padding-bottom: 0.4em;background-color: white;}#sk-container-id-12 div.sk-label label {font-family: monospace;font-weight: bold;display: inline-block;line-height: 1.2em;}#sk-container-id-12 div.sk-label-container {text-align: center;}#sk-container-id-12 div.sk-container {/* jupyter's `normalize.less` sets `[hidden] { display: none; }` but bootstrap.min.css set `[hidden] { display: none !important; }` so we also need the `!important` here to be able to override the default hidden behavior on the sphinx rendered scikit-learn.org. See: https://github.com/scikit-learn/scikit-learn/issues/21755 */display: inline-block !important;position: relative;}#sk-container-id-12 div.sk-text-repr-fallback {display: none;}</style><div id=\"sk-container-id-12\" class=\"sk-top-container\"><div class=\"sk-text-repr-fallback\"><pre>RandomForestRegressor()</pre><b>In a Jupyter environment, please rerun this cell to show the HTML representation or trust the notebook. <br />On GitHub, the HTML representation is unable to render, please try loading this page with nbviewer.org.</b></div><div class=\"sk-container\" hidden><div class=\"sk-item\"><div class=\"sk-estimator sk-toggleable\"><input class=\"sk-toggleable__control sk-hidden--visually\" id=\"sk-estimator-id-12\" type=\"checkbox\" checked><label for=\"sk-estimator-id-12\" class=\"sk-toggleable__label sk-toggleable__label-arrow\">RandomForestRegressor</label><div class=\"sk-toggleable__content\"><pre>RandomForestRegressor()</pre></div></div></div></div></div>"
     },
     "execution_count": 289,
     "metadata": {},
     "output_type": "execute_result"
    }
   ],
   "source": [
    "model_power.fit(X,Y)"
   ]
  },
  {
   "cell_type": "code",
   "execution_count": 290,
   "metadata": {},
   "outputs": [],
   "source": [
    "predictions = model_power.predict(df[df['powerPerformance'].isnull()==True][['G3Dmark', 'G2Dmark', 'price', 'gpuValue', 'TDP','testDate']])"
   ]
  },
  {
   "cell_type": "code",
   "execution_count": 291,
   "metadata": {},
   "outputs": [
    {
     "data": {
      "text/plain": "1625"
     },
     "execution_count": 291,
     "metadata": {},
     "output_type": "execute_result"
    }
   ],
   "source": [
    "len(predictions)"
   ]
  },
  {
   "cell_type": "code",
   "execution_count": 292,
   "metadata": {},
   "outputs": [],
   "source": [
    "counter = 0\n",
    "for i in df[df['powerPerformance'].isnull() == True]['powerPerformance'].index:\n",
    "    df.loc[i,'powerPerformance'] = predictions[counter]\n",
    "    counter+=1"
   ]
  },
  {
   "cell_type": "code",
   "execution_count": 293,
   "metadata": {},
   "outputs": [
    {
     "name": "stdout",
     "output_type": "stream",
     "text": [
      "<class 'pandas.core.frame.DataFrame'>\n",
      "RangeIndex: 2317 entries, 0 to 2316\n",
      "Data columns (total 9 columns):\n",
      " #   Column            Non-Null Count  Dtype  \n",
      "---  ------            --------------  -----  \n",
      " 0   gpuName           2317 non-null   object \n",
      " 1   G3Dmark           2317 non-null   int64  \n",
      " 2   G2Dmark           2317 non-null   int64  \n",
      " 3   price             2317 non-null   float64\n",
      " 4   gpuValue          2317 non-null   float64\n",
      " 5   TDP               2317 non-null   float64\n",
      " 6   powerPerformance  2317 non-null   float64\n",
      " 7   testDate          2317 non-null   int64  \n",
      " 8   category          2317 non-null   object \n",
      "dtypes: float64(4), int64(3), object(2)\n",
      "memory usage: 163.0+ KB\n"
     ]
    }
   ],
   "source": [
    "df.info()"
   ]
  },
  {
   "cell_type": "markdown",
   "metadata": {},
   "source": [
    "### Handling category column"
   ]
  },
  {
   "cell_type": "code",
   "execution_count": 294,
   "metadata": {},
   "outputs": [],
   "source": [
    "dum = pd.get_dummies(df['category'])"
   ]
  },
  {
   "cell_type": "code",
   "execution_count": 295,
   "metadata": {},
   "outputs": [
    {
     "data": {
      "text/plain": "               gpuName  G3Dmark  G2Dmark    price  gpuValue    TDP  \\\n0  GeForce RTX 3090 Ti    29094     1117  2099.99     13.85  450.0   \n1  GeForce RTX 3080 Ti    26887     1031  1199.99     22.41  350.0   \n2     GeForce RTX 3090    26395      999  1749.99     15.08  350.0   \n3    Radeon RX 6900 XT    25458     1102  1120.31     22.72  300.0   \n4     GeForce RTX 3080    24853     1003   999.00     24.88  320.0   \n\n   powerPerformance  testDate category  \n0             64.65      2022  Unknown  \n1             76.82      2021  Desktop  \n2             75.41      2020  Desktop  \n3             84.86      2020  Desktop  \n4             77.66      2020  Desktop  ",
      "text/html": "<div>\n<style scoped>\n    .dataframe tbody tr th:only-of-type {\n        vertical-align: middle;\n    }\n\n    .dataframe tbody tr th {\n        vertical-align: top;\n    }\n\n    .dataframe thead th {\n        text-align: right;\n    }\n</style>\n<table border=\"1\" class=\"dataframe\">\n  <thead>\n    <tr style=\"text-align: right;\">\n      <th></th>\n      <th>gpuName</th>\n      <th>G3Dmark</th>\n      <th>G2Dmark</th>\n      <th>price</th>\n      <th>gpuValue</th>\n      <th>TDP</th>\n      <th>powerPerformance</th>\n      <th>testDate</th>\n      <th>category</th>\n    </tr>\n  </thead>\n  <tbody>\n    <tr>\n      <th>0</th>\n      <td>GeForce RTX 3090 Ti</td>\n      <td>29094</td>\n      <td>1117</td>\n      <td>2099.99</td>\n      <td>13.85</td>\n      <td>450.0</td>\n      <td>64.65</td>\n      <td>2022</td>\n      <td>Unknown</td>\n    </tr>\n    <tr>\n      <th>1</th>\n      <td>GeForce RTX 3080 Ti</td>\n      <td>26887</td>\n      <td>1031</td>\n      <td>1199.99</td>\n      <td>22.41</td>\n      <td>350.0</td>\n      <td>76.82</td>\n      <td>2021</td>\n      <td>Desktop</td>\n    </tr>\n    <tr>\n      <th>2</th>\n      <td>GeForce RTX 3090</td>\n      <td>26395</td>\n      <td>999</td>\n      <td>1749.99</td>\n      <td>15.08</td>\n      <td>350.0</td>\n      <td>75.41</td>\n      <td>2020</td>\n      <td>Desktop</td>\n    </tr>\n    <tr>\n      <th>3</th>\n      <td>Radeon RX 6900 XT</td>\n      <td>25458</td>\n      <td>1102</td>\n      <td>1120.31</td>\n      <td>22.72</td>\n      <td>300.0</td>\n      <td>84.86</td>\n      <td>2020</td>\n      <td>Desktop</td>\n    </tr>\n    <tr>\n      <th>4</th>\n      <td>GeForce RTX 3080</td>\n      <td>24853</td>\n      <td>1003</td>\n      <td>999.00</td>\n      <td>24.88</td>\n      <td>320.0</td>\n      <td>77.66</td>\n      <td>2020</td>\n      <td>Desktop</td>\n    </tr>\n  </tbody>\n</table>\n</div>"
     },
     "execution_count": 295,
     "metadata": {},
     "output_type": "execute_result"
    }
   ],
   "source": [
    "df.head()"
   ]
  },
  {
   "cell_type": "code",
   "execution_count": 297,
   "metadata": {},
   "outputs": [],
   "source": [
    "df = df.join(dum)\n"
   ]
  },
  {
   "cell_type": "code",
   "execution_count": 297,
   "outputs": [],
   "source": [],
   "metadata": {
    "collapsed": false,
    "pycharm": {
     "name": "#%%\n"
    }
   }
  },
  {
   "cell_type": "code",
   "execution_count": 297,
   "outputs": [],
   "source": [],
   "metadata": {
    "collapsed": false,
    "pycharm": {
     "name": "#%%\n"
    }
   }
  },
  {
   "cell_type": "code",
   "execution_count": 298,
   "metadata": {},
   "outputs": [],
   "source": [
    "df.drop('category',axis=1,inplace=True)"
   ]
  },
  {
   "cell_type": "markdown",
   "metadata": {},
   "source": [
    "# Final Model"
   ]
  },
  {
   "cell_type": "code",
   "execution_count": 299,
   "metadata": {},
   "outputs": [
    {
     "data": {
      "text/plain": "               gpuName  G3Dmark  G2Dmark    price  gpuValue    TDP  \\\n0  GeForce RTX 3090 Ti    29094     1117  2099.99     13.85  450.0   \n1  GeForce RTX 3080 Ti    26887     1031  1199.99     22.41  350.0   \n2     GeForce RTX 3090    26395      999  1749.99     15.08  350.0   \n3    Radeon RX 6900 XT    25458     1102  1120.31     22.72  300.0   \n4     GeForce RTX 3080    24853     1003   999.00     24.88  320.0   \n\n   powerPerformance  testDate  Desktop  Desktop, Mobile  Mobile  \\\n0             64.65      2022        0                0       0   \n1             76.82      2021        1                0       0   \n2             75.41      2020        1                0       0   \n3             84.86      2020        1                0       0   \n4             77.66      2020        1                0       0   \n\n   Mobile, Workstation  Unknown  Workstation  \n0                    0        1            0  \n1                    0        0            0  \n2                    0        0            0  \n3                    0        0            0  \n4                    0        0            0  ",
      "text/html": "<div>\n<style scoped>\n    .dataframe tbody tr th:only-of-type {\n        vertical-align: middle;\n    }\n\n    .dataframe tbody tr th {\n        vertical-align: top;\n    }\n\n    .dataframe thead th {\n        text-align: right;\n    }\n</style>\n<table border=\"1\" class=\"dataframe\">\n  <thead>\n    <tr style=\"text-align: right;\">\n      <th></th>\n      <th>gpuName</th>\n      <th>G3Dmark</th>\n      <th>G2Dmark</th>\n      <th>price</th>\n      <th>gpuValue</th>\n      <th>TDP</th>\n      <th>powerPerformance</th>\n      <th>testDate</th>\n      <th>Desktop</th>\n      <th>Desktop, Mobile</th>\n      <th>Mobile</th>\n      <th>Mobile, Workstation</th>\n      <th>Unknown</th>\n      <th>Workstation</th>\n    </tr>\n  </thead>\n  <tbody>\n    <tr>\n      <th>0</th>\n      <td>GeForce RTX 3090 Ti</td>\n      <td>29094</td>\n      <td>1117</td>\n      <td>2099.99</td>\n      <td>13.85</td>\n      <td>450.0</td>\n      <td>64.65</td>\n      <td>2022</td>\n      <td>0</td>\n      <td>0</td>\n      <td>0</td>\n      <td>0</td>\n      <td>1</td>\n      <td>0</td>\n    </tr>\n    <tr>\n      <th>1</th>\n      <td>GeForce RTX 3080 Ti</td>\n      <td>26887</td>\n      <td>1031</td>\n      <td>1199.99</td>\n      <td>22.41</td>\n      <td>350.0</td>\n      <td>76.82</td>\n      <td>2021</td>\n      <td>1</td>\n      <td>0</td>\n      <td>0</td>\n      <td>0</td>\n      <td>0</td>\n      <td>0</td>\n    </tr>\n    <tr>\n      <th>2</th>\n      <td>GeForce RTX 3090</td>\n      <td>26395</td>\n      <td>999</td>\n      <td>1749.99</td>\n      <td>15.08</td>\n      <td>350.0</td>\n      <td>75.41</td>\n      <td>2020</td>\n      <td>1</td>\n      <td>0</td>\n      <td>0</td>\n      <td>0</td>\n      <td>0</td>\n      <td>0</td>\n    </tr>\n    <tr>\n      <th>3</th>\n      <td>Radeon RX 6900 XT</td>\n      <td>25458</td>\n      <td>1102</td>\n      <td>1120.31</td>\n      <td>22.72</td>\n      <td>300.0</td>\n      <td>84.86</td>\n      <td>2020</td>\n      <td>1</td>\n      <td>0</td>\n      <td>0</td>\n      <td>0</td>\n      <td>0</td>\n      <td>0</td>\n    </tr>\n    <tr>\n      <th>4</th>\n      <td>GeForce RTX 3080</td>\n      <td>24853</td>\n      <td>1003</td>\n      <td>999.00</td>\n      <td>24.88</td>\n      <td>320.0</td>\n      <td>77.66</td>\n      <td>2020</td>\n      <td>1</td>\n      <td>0</td>\n      <td>0</td>\n      <td>0</td>\n      <td>0</td>\n      <td>0</td>\n    </tr>\n  </tbody>\n</table>\n</div>"
     },
     "execution_count": 299,
     "metadata": {},
     "output_type": "execute_result"
    }
   ],
   "source": [
    "df.head()"
   ]
  },
  {
   "cell_type": "code",
   "execution_count": 300,
   "metadata": {},
   "outputs": [
    {
     "data": {
      "text/plain": "Index(['gpuName', 'G3Dmark', 'G2Dmark', 'price', 'gpuValue', 'TDP',\n       'powerPerformance', 'testDate', 'Desktop', 'Desktop, Mobile', 'Mobile',\n       'Mobile, Workstation', 'Unknown', 'Workstation'],\n      dtype='object')"
     },
     "execution_count": 300,
     "metadata": {},
     "output_type": "execute_result"
    }
   ],
   "source": [
    "df.columns"
   ]
  },
  {
   "cell_type": "code",
   "execution_count": 301,
   "metadata": {},
   "outputs": [
    {
     "data": {
      "text/plain": "2317"
     },
     "execution_count": 301,
     "metadata": {},
     "output_type": "execute_result"
    }
   ],
   "source": [
    "len(df['gpuName'].unique())"
   ]
  },
  {
   "cell_type": "code",
   "execution_count": 302,
   "metadata": {},
   "outputs": [],
   "source": [
    "X = df.drop('gpuName',axis=1)\n",
    "# X = df.drop(['gpuName','testDate','gpuValue'],axis=1)\n",
    "y = np.arange(2317)"
   ]
  },
  {
   "cell_type": "code",
   "execution_count": 303,
   "metadata": {},
   "outputs": [],
   "source": [
    "X = np.array(X)"
   ]
  },
  {
   "cell_type": "code",
   "execution_count": 304,
   "outputs": [
    {
     "data": {
      "text/plain": "gpuName                GeForce RTX 3090 Ti\nG3Dmark                              29094\nG2Dmark                               1117\nprice                              2099.99\ngpuValue                             13.85\nTDP                                  450.0\npowerPerformance                     64.65\ntestDate                              2022\nDesktop                                  0\nDesktop, Mobile                          0\nMobile                                   0\nMobile, Workstation                      0\nUnknown                                  1\nWorkstation                              0\nName: 0, dtype: object"
     },
     "execution_count": 304,
     "metadata": {},
     "output_type": "execute_result"
    }
   ],
   "source": [
    "df.iloc[0]"
   ],
   "metadata": {
    "collapsed": false,
    "pycharm": {
     "name": "#%%\n"
    }
   }
  },
  {
   "cell_type": "code",
   "execution_count": 305,
   "metadata": {},
   "outputs": [
    {
     "data": {
      "text/plain": "array([2.90940e+04, 1.11700e+03, 2.09999e+03, 1.38500e+01, 4.50000e+02,\n       6.46500e+01, 2.02200e+03, 0.00000e+00, 0.00000e+00, 0.00000e+00,\n       0.00000e+00, 1.00000e+00, 0.00000e+00])"
     },
     "execution_count": 305,
     "metadata": {},
     "output_type": "execute_result"
    }
   ],
   "source": [
    "X[0]"
   ]
  },
  {
   "cell_type": "code",
   "execution_count": 306,
   "metadata": {},
   "outputs": [
    {
     "data": {
      "text/plain": "array([0, 1, 2, 3, 4, 5, 6, 7, 8, 9])"
     },
     "execution_count": 306,
     "metadata": {},
     "output_type": "execute_result"
    }
   ],
   "source": [
    "y[:10]"
   ]
  },
  {
   "cell_type": "code",
   "execution_count": 307,
   "metadata": {},
   "outputs": [
    {
     "data": {
      "text/plain": "((2317, 13), (2317,))"
     },
     "execution_count": 307,
     "metadata": {},
     "output_type": "execute_result"
    }
   ],
   "source": [
    "X.shape, y.shape"
   ]
  },
  {
   "cell_type": "code",
   "execution_count": 308,
   "metadata": {
    "pycharm": {
     "name": "#%%\n"
    }
   },
   "outputs": [
    {
     "name": "stdout",
     "output_type": "stream",
     "text": [
      "73/73 [==============================] - 0s 6ms/step - loss: 4.8375 - accuracy: 0.0255\n",
      "Epoch 10/200\n",
      "73/73 [==============================] - 0s 5ms/step - loss: 4.5993 - accuracy: 0.0315\n",
      "Epoch 11/200\n",
      "73/73 [==============================] - 0s 6ms/step - loss: 4.3569 - accuracy: 0.0492\n",
      "Epoch 12/200\n",
      "73/73 [==============================] - 0s 6ms/step - loss: 4.2427 - accuracy: 0.0505\n",
      "Epoch 13/200\n",
      "73/73 [==============================] - 1s 7ms/step - loss: 3.9641 - accuracy: 0.0742\n",
      "Epoch 14/200\n",
      "73/73 [==============================] - 0s 6ms/step - loss: 3.8724 - accuracy: 0.0798\n",
      "Epoch 15/200\n",
      "73/73 [==============================] - 0s 5ms/step - loss: 3.6804 - accuracy: 0.0842\n",
      "Epoch 16/200\n",
      "73/73 [==============================] - 0s 4ms/step - loss: 3.5555 - accuracy: 0.0941\n",
      "Epoch 17/200\n",
      "73/73 [==============================] - 0s 5ms/step - loss: 3.4386 - accuracy: 0.1101\n",
      "Epoch 18/200\n",
      "73/73 [==============================] - 1s 7ms/step - loss: 3.3857 - accuracy: 0.1114\n",
      "Epoch 19/200\n",
      "73/73 [==============================] - 0s 7ms/step - loss: 3.2955 - accuracy: 0.1239\n",
      "Epoch 20/200\n",
      "73/73 [==============================] - 1s 7ms/step - loss: 3.0652 - accuracy: 0.1498\n",
      "Epoch 21/200\n",
      "73/73 [==============================] - 0s 6ms/step - loss: 3.0253 - accuracy: 0.1528\n",
      "Epoch 22/200\n",
      "73/73 [==============================] - 0s 7ms/step - loss: 2.9610 - accuracy: 0.1670\n",
      "Epoch 23/200\n",
      "73/73 [==============================] - 1s 8ms/step - loss: 2.9380 - accuracy: 0.1627\n",
      "Epoch 24/200\n",
      "73/73 [==============================] - 0s 6ms/step - loss: 2.7792 - accuracy: 0.1847\n",
      "Epoch 25/200\n",
      "73/73 [==============================] - 0s 5ms/step - loss: 2.7333 - accuracy: 0.2024\n",
      "Epoch 26/200\n",
      "73/73 [==============================] - 0s 4ms/step - loss: 2.6600 - accuracy: 0.2046\n",
      "Epoch 27/200\n",
      "73/73 [==============================] - 0s 4ms/step - loss: 2.5931 - accuracy: 0.2210\n",
      "Epoch 28/200\n",
      "73/73 [==============================] - 0s 5ms/step - loss: 2.4948 - accuracy: 0.2244\n",
      "Epoch 29/200\n",
      "73/73 [==============================] - 0s 6ms/step - loss: 2.4781 - accuracy: 0.2335\n",
      "Epoch 30/200\n",
      "73/73 [==============================] - 0s 6ms/step - loss: 2.4159 - accuracy: 0.2581\n",
      "Epoch 31/200\n",
      "73/73 [==============================] - 0s 5ms/step - loss: 2.2817 - accuracy: 0.2741\n",
      "Epoch 32/200\n",
      "73/73 [==============================] - 0s 5ms/step - loss: 2.3286 - accuracy: 0.2715\n",
      "Epoch 33/200\n",
      "73/73 [==============================] - 0s 5ms/step - loss: 2.1916 - accuracy: 0.2909\n",
      "Epoch 34/200\n",
      "73/73 [==============================] - 0s 6ms/step - loss: 2.1611 - accuracy: 0.3043\n",
      "Epoch 35/200\n",
      "73/73 [==============================] - 0s 6ms/step - loss: 2.1121 - accuracy: 0.3112\n",
      "Epoch 36/200\n",
      "73/73 [==============================] - 0s 7ms/step - loss: 2.1763 - accuracy: 0.3215\n",
      "Epoch 37/200\n",
      "73/73 [==============================] - 1s 7ms/step - loss: 1.9951 - accuracy: 0.3345\n",
      "Epoch 38/200\n",
      "73/73 [==============================] - 0s 6ms/step - loss: 2.0685 - accuracy: 0.3284\n",
      "Epoch 39/200\n",
      "73/73 [==============================] - 0s 6ms/step - loss: 1.9818 - accuracy: 0.3599\n",
      "Epoch 40/200\n",
      "73/73 [==============================] - 1s 7ms/step - loss: 1.9733 - accuracy: 0.3513\n",
      "Epoch 41/200\n",
      "73/73 [==============================] - 0s 7ms/step - loss: 1.8684 - accuracy: 0.3694\n",
      "Epoch 42/200\n",
      "73/73 [==============================] - 0s 7ms/step - loss: 1.9077 - accuracy: 0.3487\n",
      "Epoch 43/200\n",
      "73/73 [==============================] - 0s 7ms/step - loss: 1.7829 - accuracy: 0.3837\n",
      "Epoch 44/200\n",
      "73/73 [==============================] - 0s 6ms/step - loss: 1.8477 - accuracy: 0.3897\n",
      "Epoch 45/200\n",
      "73/73 [==============================] - 0s 6ms/step - loss: 1.8062 - accuracy: 0.3776\n",
      "Epoch 46/200\n",
      "73/73 [==============================] - 1s 7ms/step - loss: 1.8400 - accuracy: 0.3837\n",
      "Epoch 47/200\n",
      "73/73 [==============================] - 0s 7ms/step - loss: 1.8600 - accuracy: 0.3608\n",
      "Epoch 48/200\n",
      "73/73 [==============================] - 0s 6ms/step - loss: 1.6908 - accuracy: 0.4234\n",
      "Epoch 49/200\n",
      "73/73 [==============================] - 0s 7ms/step - loss: 1.6967 - accuracy: 0.4212\n",
      "Epoch 50/200\n",
      "73/73 [==============================] - 1s 7ms/step - loss: 1.6878 - accuracy: 0.4273\n",
      "Epoch 51/200\n",
      "73/73 [==============================] - 0s 7ms/step - loss: 1.5212 - accuracy: 0.4683\n",
      "Epoch 52/200\n",
      "73/73 [==============================] - 0s 6ms/step - loss: 1.5792 - accuracy: 0.4493\n",
      "Epoch 53/200\n",
      "73/73 [==============================] - 0s 7ms/step - loss: 1.5350 - accuracy: 0.4609\n",
      "Epoch 54/200\n",
      "73/73 [==============================] - 0s 6ms/step - loss: 1.5880 - accuracy: 0.4424\n",
      "Epoch 55/200\n",
      "73/73 [==============================] - 0s 6ms/step - loss: 1.6720 - accuracy: 0.4225\n",
      "Epoch 56/200\n",
      "73/73 [==============================] - 1s 7ms/step - loss: 1.4272 - accuracy: 0.4868\n",
      "Epoch 57/200\n",
      "73/73 [==============================] - 1s 7ms/step - loss: 1.4995 - accuracy: 0.4812\n",
      "Epoch 58/200\n",
      "73/73 [==============================] - 1s 7ms/step - loss: 1.4017 - accuracy: 0.4963\n",
      "Epoch 59/200\n",
      "73/73 [==============================] - 0s 6ms/step - loss: 1.3493 - accuracy: 0.5261\n",
      "Epoch 60/200\n",
      "73/73 [==============================] - 0s 7ms/step - loss: 1.5575 - accuracy: 0.4730\n",
      "Epoch 61/200\n",
      "73/73 [==============================] - 1s 7ms/step - loss: 1.4018 - accuracy: 0.5132\n",
      "Epoch 62/200\n",
      "73/73 [==============================] - 1s 7ms/step - loss: 1.4564 - accuracy: 0.4998\n",
      "Epoch 63/200\n",
      "73/73 [==============================] - 1s 7ms/step - loss: 1.4711 - accuracy: 0.4886\n",
      "Epoch 64/200\n",
      "73/73 [==============================] - 0s 7ms/step - loss: 1.3898 - accuracy: 0.4933\n",
      "Epoch 65/200\n",
      "73/73 [==============================] - 0s 7ms/step - loss: 1.3219 - accuracy: 0.5261\n",
      "Epoch 66/200\n",
      "73/73 [==============================] - 1s 7ms/step - loss: 1.3700 - accuracy: 0.5145\n",
      "Epoch 67/200\n",
      "73/73 [==============================] - 1s 7ms/step - loss: 1.4498 - accuracy: 0.4886\n",
      "Epoch 68/200\n",
      "73/73 [==============================] - 1s 7ms/step - loss: 1.2766 - accuracy: 0.5412\n",
      "Epoch 69/200\n",
      "73/73 [==============================] - 0s 6ms/step - loss: 1.3335 - accuracy: 0.5330\n",
      "Epoch 70/200\n",
      "73/73 [==============================] - 0s 6ms/step - loss: 1.2814 - accuracy: 0.5442\n",
      "Epoch 71/200\n",
      "73/73 [==============================] - 1s 7ms/step - loss: 1.3852 - accuracy: 0.5058\n",
      "Epoch 72/200\n",
      "73/73 [==============================] - 1s 7ms/step - loss: 1.3141 - accuracy: 0.5227\n",
      "Epoch 73/200\n",
      "73/73 [==============================] - 1s 7ms/step - loss: 1.1752 - accuracy: 0.5770\n",
      "Epoch 74/200\n",
      "73/73 [==============================] - 0s 7ms/step - loss: 1.3506 - accuracy: 0.5404\n",
      "Epoch 75/200\n",
      "73/73 [==============================] - 0s 6ms/step - loss: 1.2541 - accuracy: 0.5498\n",
      "Epoch 76/200\n",
      "73/73 [==============================] - 0s 6ms/step - loss: 1.3113 - accuracy: 0.5287\n",
      "Epoch 77/200\n",
      "73/73 [==============================] - 0s 7ms/step - loss: 1.2972 - accuracy: 0.5326\n",
      "Epoch 78/200\n",
      "73/73 [==============================] - 0s 6ms/step - loss: 1.1621 - accuracy: 0.5822\n",
      "Epoch 79/200\n",
      "73/73 [==============================] - 0s 6ms/step - loss: 1.1190 - accuracy: 0.5831\n",
      "Epoch 80/200\n",
      "73/73 [==============================] - 0s 6ms/step - loss: 1.1921 - accuracy: 0.5913\n",
      "Epoch 81/200\n",
      "73/73 [==============================] - 0s 6ms/step - loss: 1.1781 - accuracy: 0.5723\n",
      "Epoch 82/200\n",
      "73/73 [==============================] - 0s 6ms/step - loss: 1.1869 - accuracy: 0.5740\n",
      "Epoch 83/200\n",
      "73/73 [==============================] - 0s 5ms/step - loss: 1.2555 - accuracy: 0.5637\n",
      "Epoch 84/200\n",
      "73/73 [==============================] - 0s 5ms/step - loss: 1.1494 - accuracy: 0.5818\n",
      "Epoch 85/200\n",
      "73/73 [==============================] - 0s 4ms/step - loss: 1.0867 - accuracy: 0.6068\n",
      "Epoch 86/200\n",
      "73/73 [==============================] - 0s 5ms/step - loss: 1.0205 - accuracy: 0.6331\n",
      "Epoch 87/200\n",
      "73/73 [==============================] - 0s 6ms/step - loss: 1.2483 - accuracy: 0.5645\n",
      "Epoch 88/200\n",
      "73/73 [==============================] - 0s 7ms/step - loss: 1.1358 - accuracy: 0.5865\n",
      "Epoch 89/200\n",
      "73/73 [==============================] - 0s 7ms/step - loss: 1.1733 - accuracy: 0.5818\n",
      "Epoch 90/200\n",
      "73/73 [==============================] - 0s 6ms/step - loss: 1.1116 - accuracy: 0.5991\n",
      "Epoch 91/200\n",
      "73/73 [==============================] - 0s 6ms/step - loss: 1.0504 - accuracy: 0.6185\n",
      "Epoch 92/200\n",
      "73/73 [==============================] - 0s 6ms/step - loss: 1.0524 - accuracy: 0.6163\n",
      "Epoch 93/200\n",
      "73/73 [==============================] - 0s 6ms/step - loss: 0.9881 - accuracy: 0.6306\n",
      "Epoch 94/200\n",
      "73/73 [==============================] - 0s 7ms/step - loss: 1.1477 - accuracy: 0.5857\n",
      "Epoch 95/200\n",
      "73/73 [==============================] - 0s 7ms/step - loss: 1.1171 - accuracy: 0.6003\n",
      "Epoch 96/200\n",
      "73/73 [==============================] - 0s 6ms/step - loss: 1.1156 - accuracy: 0.5947\n",
      "Epoch 97/200\n",
      "73/73 [==============================] - 0s 6ms/step - loss: 0.8818 - accuracy: 0.6664\n",
      "Epoch 98/200\n",
      "73/73 [==============================] - 0s 6ms/step - loss: 0.9253 - accuracy: 0.6612\n",
      "Epoch 99/200\n",
      "73/73 [==============================] - 0s 6ms/step - loss: 1.0761 - accuracy: 0.6155\n",
      "Epoch 100/200\n",
      "73/73 [==============================] - 0s 6ms/step - loss: 1.1674 - accuracy: 0.5818\n",
      "Epoch 101/200\n",
      "73/73 [==============================] - 0s 6ms/step - loss: 1.0792 - accuracy: 0.6029\n",
      "Epoch 102/200\n",
      "73/73 [==============================] - 0s 6ms/step - loss: 1.0997 - accuracy: 0.6120\n",
      "Epoch 103/200\n",
      "73/73 [==============================] - 0s 6ms/step - loss: 1.0255 - accuracy: 0.6159\n",
      "Epoch 104/200\n",
      "73/73 [==============================] - 0s 6ms/step - loss: 0.9562 - accuracy: 0.6565\n",
      "Epoch 105/200\n",
      "73/73 [==============================] - 0s 6ms/step - loss: 0.9885 - accuracy: 0.6375\n",
      "Epoch 106/200\n",
      "73/73 [==============================] - 0s 6ms/step - loss: 1.0485 - accuracy: 0.6146\n",
      "Epoch 107/200\n",
      "73/73 [==============================] - 0s 6ms/step - loss: 1.0153 - accuracy: 0.6301\n",
      "Epoch 108/200\n",
      "73/73 [==============================] - 0s 6ms/step - loss: 0.8754 - accuracy: 0.6703\n",
      "Epoch 109/200\n",
      "73/73 [==============================] - 0s 6ms/step - loss: 0.9119 - accuracy: 0.6556\n",
      "Epoch 110/200\n",
      "73/73 [==============================] - 0s 6ms/step - loss: 0.9319 - accuracy: 0.6647\n",
      "Epoch 111/200\n",
      "73/73 [==============================] - 0s 6ms/step - loss: 1.0534 - accuracy: 0.6202\n",
      "Epoch 112/200\n",
      "73/73 [==============================] - 0s 6ms/step - loss: 1.0230 - accuracy: 0.6280\n",
      "Epoch 113/200\n",
      "73/73 [==============================] - 0s 6ms/step - loss: 1.0345 - accuracy: 0.6237\n",
      "Epoch 114/200\n",
      "73/73 [==============================] - 0s 6ms/step - loss: 0.9112 - accuracy: 0.6573\n",
      "Epoch 115/200\n",
      "73/73 [==============================] - 0s 6ms/step - loss: 0.9068 - accuracy: 0.6582\n",
      "Epoch 116/200\n",
      "73/73 [==============================] - 0s 6ms/step - loss: 0.8346 - accuracy: 0.6888\n",
      "Epoch 117/200\n",
      "73/73 [==============================] - 0s 7ms/step - loss: 1.0608 - accuracy: 0.6241\n",
      "Epoch 118/200\n",
      "73/73 [==============================] - 0s 6ms/step - loss: 1.0789 - accuracy: 0.6073\n",
      "Epoch 119/200\n",
      "73/73 [==============================] - 0s 6ms/step - loss: 0.9867 - accuracy: 0.6431\n",
      "Epoch 120/200\n",
      "73/73 [==============================] - 0s 6ms/step - loss: 0.8883 - accuracy: 0.6685\n",
      "Epoch 121/200\n",
      "73/73 [==============================] - 0s 7ms/step - loss: 0.8897 - accuracy: 0.6716\n",
      "Epoch 122/200\n",
      "73/73 [==============================] - 1s 7ms/step - loss: 0.9567 - accuracy: 0.6422\n",
      "Epoch 123/200\n",
      "73/73 [==============================] - 0s 6ms/step - loss: 0.8917 - accuracy: 0.6746\n",
      "Epoch 124/200\n",
      "73/73 [==============================] - 0s 5ms/step - loss: 0.7596 - accuracy: 0.7177\n",
      "Epoch 125/200\n",
      "73/73 [==============================] - 0s 5ms/step - loss: 0.8383 - accuracy: 0.6849\n",
      "Epoch 126/200\n",
      "73/73 [==============================] - 0s 5ms/step - loss: 0.8864 - accuracy: 0.6694\n",
      "Epoch 127/200\n",
      "73/73 [==============================] - 0s 5ms/step - loss: 0.8501 - accuracy: 0.6845\n",
      "Epoch 128/200\n",
      "73/73 [==============================] - 0s 5ms/step - loss: 0.8485 - accuracy: 0.6897\n",
      "Epoch 129/200\n",
      "73/73 [==============================] - 0s 5ms/step - loss: 0.9022 - accuracy: 0.6655\n",
      "Epoch 130/200\n",
      "73/73 [==============================] - 0s 5ms/step - loss: 0.9172 - accuracy: 0.6668\n",
      "Epoch 131/200\n",
      "73/73 [==============================] - 0s 6ms/step - loss: 0.8030 - accuracy: 0.7035\n",
      "Epoch 132/200\n",
      "73/73 [==============================] - 0s 7ms/step - loss: 0.7257 - accuracy: 0.7272\n",
      "Epoch 133/200\n",
      "73/73 [==============================] - 0s 6ms/step - loss: 0.7674 - accuracy: 0.7190\n",
      "Epoch 134/200\n",
      "73/73 [==============================] - 0s 6ms/step - loss: 0.9632 - accuracy: 0.6573\n",
      "Epoch 135/200\n",
      "73/73 [==============================] - 0s 6ms/step - loss: 0.8110 - accuracy: 0.6953\n",
      "Epoch 136/200\n",
      "73/73 [==============================] - 0s 6ms/step - loss: 0.9079 - accuracy: 0.6672\n",
      "Epoch 137/200\n",
      "73/73 [==============================] - 0s 7ms/step - loss: 0.9327 - accuracy: 0.6629\n",
      "Epoch 138/200\n",
      "73/73 [==============================] - 0s 6ms/step - loss: 0.7827 - accuracy: 0.6979\n",
      "Epoch 139/200\n",
      "73/73 [==============================] - 0s 6ms/step - loss: 0.8804 - accuracy: 0.6823\n",
      "Epoch 140/200\n",
      "73/73 [==============================] - 0s 5ms/step - loss: 0.9216 - accuracy: 0.6672\n",
      "Epoch 141/200\n",
      "73/73 [==============================] - 0s 5ms/step - loss: 0.9364 - accuracy: 0.6664\n",
      "Epoch 142/200\n",
      "73/73 [==============================] - 0s 4ms/step - loss: 0.7953 - accuracy: 0.6983\n",
      "Epoch 143/200\n",
      "73/73 [==============================] - 0s 5ms/step - loss: 0.7356 - accuracy: 0.7225\n",
      "Epoch 144/200\n",
      "73/73 [==============================] - 0s 5ms/step - loss: 0.8221 - accuracy: 0.7026\n",
      "Epoch 145/200\n",
      "73/73 [==============================] - 0s 5ms/step - loss: 1.0402 - accuracy: 0.6202\n",
      "Epoch 146/200\n",
      "73/73 [==============================] - 0s 4ms/step - loss: 0.7570 - accuracy: 0.7195\n",
      "Epoch 147/200\n",
      "73/73 [==============================] - 0s 4ms/step - loss: 0.7025 - accuracy: 0.7294\n",
      "Epoch 148/200\n",
      "73/73 [==============================] - 0s 5ms/step - loss: 0.7484 - accuracy: 0.7186\n",
      "Epoch 149/200\n",
      "73/73 [==============================] - 0s 5ms/step - loss: 0.7152 - accuracy: 0.7320\n",
      "Epoch 150/200\n",
      "73/73 [==============================] - 0s 5ms/step - loss: 0.7977 - accuracy: 0.7091\n",
      "Epoch 151/200\n",
      "73/73 [==============================] - 0s 4ms/step - loss: 0.8515 - accuracy: 0.6901\n",
      "Epoch 152/200\n",
      "73/73 [==============================] - 0s 6ms/step - loss: 0.8709 - accuracy: 0.6888\n",
      "Epoch 153/200\n",
      "73/73 [==============================] - 0s 4ms/step - loss: 0.8202 - accuracy: 0.7108\n",
      "Epoch 154/200\n",
      "73/73 [==============================] - 0s 5ms/step - loss: 0.8098 - accuracy: 0.6875\n",
      "Epoch 155/200\n",
      "73/73 [==============================] - 0s 5ms/step - loss: 0.8005 - accuracy: 0.7147\n",
      "Epoch 156/200\n",
      "73/73 [==============================] - 0s 5ms/step - loss: 0.7778 - accuracy: 0.7044\n",
      "Epoch 157/200\n",
      "73/73 [==============================] - 0s 5ms/step - loss: 0.7333 - accuracy: 0.7281\n",
      "Epoch 158/200\n",
      "73/73 [==============================] - 0s 5ms/step - loss: 0.7635 - accuracy: 0.7126\n",
      "Epoch 159/200\n",
      "73/73 [==============================] - 0s 6ms/step - loss: 0.6357 - accuracy: 0.7467\n",
      "Epoch 160/200\n",
      "73/73 [==============================] - 0s 6ms/step - loss: 0.8154 - accuracy: 0.7095\n",
      "Epoch 161/200\n",
      "73/73 [==============================] - 0s 6ms/step - loss: 0.7358 - accuracy: 0.7208\n",
      "Epoch 162/200\n",
      "73/73 [==============================] - 0s 6ms/step - loss: 0.7476 - accuracy: 0.7078\n",
      "Epoch 163/200\n",
      "73/73 [==============================] - 0s 6ms/step - loss: 0.7253 - accuracy: 0.7216\n",
      "Epoch 164/200\n",
      "73/73 [==============================] - 0s 6ms/step - loss: 0.8125 - accuracy: 0.7087\n",
      "Epoch 165/200\n",
      "73/73 [==============================] - 0s 7ms/step - loss: 0.7524 - accuracy: 0.7121\n",
      "Epoch 166/200\n",
      "73/73 [==============================] - 0s 6ms/step - loss: 0.6194 - accuracy: 0.7600\n",
      "Epoch 167/200\n",
      "73/73 [==============================] - 0s 7ms/step - loss: 0.8074 - accuracy: 0.7216\n",
      "Epoch 168/200\n",
      "73/73 [==============================] - 0s 6ms/step - loss: 0.9476 - accuracy: 0.6603\n",
      "Epoch 169/200\n",
      "73/73 [==============================] - 0s 6ms/step - loss: 0.8237 - accuracy: 0.6918\n",
      "Epoch 170/200\n",
      "73/73 [==============================] - 0s 6ms/step - loss: 0.6642 - accuracy: 0.7458\n",
      "Epoch 171/200\n",
      "73/73 [==============================] - 0s 7ms/step - loss: 0.6052 - accuracy: 0.7635\n",
      "Epoch 172/200\n",
      "73/73 [==============================] - 0s 7ms/step - loss: 0.6044 - accuracy: 0.7782\n",
      "Epoch 173/200\n",
      "73/73 [==============================] - 0s 6ms/step - loss: 0.7145 - accuracy: 0.7333\n",
      "Epoch 174/200\n",
      "73/73 [==============================] - 0s 6ms/step - loss: 0.7106 - accuracy: 0.7397\n",
      "Epoch 175/200\n",
      "73/73 [==============================] - 0s 6ms/step - loss: 0.7102 - accuracy: 0.7341\n",
      "Epoch 176/200\n",
      "73/73 [==============================] - 0s 7ms/step - loss: 0.7532 - accuracy: 0.7212\n",
      "Epoch 177/200\n",
      "73/73 [==============================] - 0s 7ms/step - loss: 0.6503 - accuracy: 0.7557\n",
      "Epoch 178/200\n",
      "73/73 [==============================] - 1s 7ms/step - loss: 0.8637 - accuracy: 0.6793\n",
      "Epoch 179/200\n",
      "73/73 [==============================] - 0s 6ms/step - loss: 0.8386 - accuracy: 0.6897\n",
      "Epoch 180/200\n",
      "73/73 [==============================] - 0s 7ms/step - loss: 0.7241 - accuracy: 0.7350\n",
      "Epoch 181/200\n",
      "73/73 [==============================] - 0s 7ms/step - loss: 0.7026 - accuracy: 0.7415\n",
      "Epoch 182/200\n",
      "73/73 [==============================] - 0s 6ms/step - loss: 0.5843 - accuracy: 0.7855\n",
      "Epoch 183/200\n",
      "73/73 [==============================] - 0s 6ms/step - loss: 0.6854 - accuracy: 0.7432\n",
      "Epoch 184/200\n",
      "73/73 [==============================] - 0s 6ms/step - loss: 0.8299 - accuracy: 0.7000\n",
      "Epoch 185/200\n",
      "73/73 [==============================] - 0s 6ms/step - loss: 0.8197 - accuracy: 0.6957\n",
      "Epoch 186/200\n",
      "73/73 [==============================] - 0s 6ms/step - loss: 0.8234 - accuracy: 0.7000\n",
      "Epoch 187/200\n",
      "73/73 [==============================] - 0s 7ms/step - loss: 0.7998 - accuracy: 0.7035\n",
      "Epoch 188/200\n",
      "73/73 [==============================] - 0s 7ms/step - loss: 0.7276 - accuracy: 0.7311\n",
      "Epoch 189/200\n",
      "73/73 [==============================] - 0s 6ms/step - loss: 0.6932 - accuracy: 0.7242\n",
      "Epoch 190/200\n",
      "73/73 [==============================] - 0s 6ms/step - loss: 0.6207 - accuracy: 0.7674\n",
      "Epoch 191/200\n",
      "73/73 [==============================] - 0s 6ms/step - loss: 0.5985 - accuracy: 0.7691\n",
      "Epoch 192/200\n",
      "73/73 [==============================] - 0s 7ms/step - loss: 0.6724 - accuracy: 0.7544\n",
      "Epoch 193/200\n",
      "73/73 [==============================] - 0s 6ms/step - loss: 0.8874 - accuracy: 0.6836\n",
      "Epoch 194/200\n",
      "73/73 [==============================] - 0s 7ms/step - loss: 0.6948 - accuracy: 0.7346\n",
      "Epoch 195/200\n",
      "73/73 [==============================] - 0s 6ms/step - loss: 0.5378 - accuracy: 0.7877\n",
      "Epoch 196/200\n",
      "73/73 [==============================] - 0s 6ms/step - loss: 0.4961 - accuracy: 0.8105\n",
      "Epoch 197/200\n",
      "73/73 [==============================] - 0s 7ms/step - loss: 0.5333 - accuracy: 0.7937\n",
      "Epoch 198/200\n",
      "73/73 [==============================] - 0s 7ms/step - loss: 0.6175 - accuracy: 0.7769\n",
      "Epoch 199/200\n",
      "73/73 [==============================] - 0s 6ms/step - loss: 0.6355 - accuracy: 0.7579\n",
      "Epoch 200/200\n",
      "73/73 [==============================] - 0s 6ms/step - loss: 0.7216 - accuracy: 0.7341\n"
     ]
    },
    {
     "data": {
      "text/plain": "<keras.callbacks.History at 0x2bd3c631a80>"
     },
     "execution_count": 200,
     "metadata": {},
     "output_type": "execute_result"
    },
    {
     "name": "stdout",
     "output_type": "stream",
     "text": [
      "Epoch 1/200\n",
      "73/73 [==============================] - 2s 7ms/step - loss: 10.0954 - accuracy: 0.0000e+00\n",
      "Epoch 2/200\n",
      "73/73 [==============================] - 0s 6ms/step - loss: 7.6762 - accuracy: 8.6319e-04\n",
      "Epoch 3/200\n",
      "73/73 [==============================] - 0s 6ms/step - loss: 7.3565 - accuracy: 0.0013\n",
      "Epoch 4/200\n",
      "73/73 [==============================] - 0s 6ms/step - loss: 6.8649 - accuracy: 0.0030\n",
      "Epoch 5/200\n",
      "73/73 [==============================] - 0s 6ms/step - loss: 6.3721 - accuracy: 0.0056\n",
      "Epoch 6/200\n",
      "73/73 [==============================] - 1s 7ms/step - loss: 5.7863 - accuracy: 0.0091\n",
      "Epoch 7/200\n",
      "73/73 [==============================] - 0s 6ms/step - loss: 5.3825 - accuracy: 0.0147\n",
      "Epoch 8/200\n",
      "73/73 [==============================] - 0s 6ms/step - loss: 4.9885 - accuracy: 0.0211\n",
      "Epoch 9/200\n",
      "73/73 [==============================] - 0s 6ms/step - loss: 4.7117 - accuracy: 0.0242\n",
      "Epoch 10/200\n",
      "73/73 [==============================] - 0s 6ms/step - loss: 4.4675 - accuracy: 0.0298\n",
      "Epoch 11/200\n",
      "73/73 [==============================] - 0s 7ms/step - loss: 4.2183 - accuracy: 0.0475\n",
      "Epoch 12/200\n",
      "73/73 [==============================] - 0s 6ms/step - loss: 4.0565 - accuracy: 0.0479\n",
      "Epoch 13/200\n",
      "73/73 [==============================] - 0s 6ms/step - loss: 3.8920 - accuracy: 0.0686\n",
      "Epoch 14/200\n",
      "73/73 [==============================] - 0s 6ms/step - loss: 3.7457 - accuracy: 0.0833\n",
      "Epoch 15/200\n",
      "73/73 [==============================] - 0s 6ms/step - loss: 3.6273 - accuracy: 0.0863\n",
      "Epoch 16/200\n",
      "73/73 [==============================] - 0s 6ms/step - loss: 3.5145 - accuracy: 0.0898\n",
      "Epoch 17/200\n",
      "73/73 [==============================] - 0s 6ms/step - loss: 3.3939 - accuracy: 0.1088\n",
      "Epoch 18/200\n",
      "73/73 [==============================] - 0s 6ms/step - loss: 3.3441 - accuracy: 0.1170\n",
      "Epoch 19/200\n",
      "73/73 [==============================] - 0s 6ms/step - loss: 3.2560 - accuracy: 0.1230\n",
      "Epoch 20/200\n",
      "73/73 [==============================] - 0s 6ms/step - loss: 3.0531 - accuracy: 0.1381\n",
      "Epoch 21/200\n",
      "73/73 [==============================] - 0s 6ms/step - loss: 2.9968 - accuracy: 0.1571\n",
      "Epoch 22/200\n",
      "73/73 [==============================] - 0s 6ms/step - loss: 2.9004 - accuracy: 0.1644\n",
      "Epoch 23/200\n",
      "73/73 [==============================] - 0s 6ms/step - loss: 2.8758 - accuracy: 0.1688\n",
      "Epoch 24/200\n",
      "73/73 [==============================] - 0s 6ms/step - loss: 2.7973 - accuracy: 0.1899\n",
      "Epoch 25/200\n",
      "73/73 [==============================] - 0s 6ms/step - loss: 2.7100 - accuracy: 0.2016\n",
      "Epoch 26/200\n",
      "73/73 [==============================] - 0s 6ms/step - loss: 2.6380 - accuracy: 0.2059\n",
      "Epoch 27/200\n",
      "73/73 [==============================] - 0s 7ms/step - loss: 2.5104 - accuracy: 0.2227\n",
      "Epoch 28/200\n",
      "73/73 [==============================] - 0s 6ms/step - loss: 2.5534 - accuracy: 0.2171\n",
      "Epoch 29/200\n",
      "73/73 [==============================] - 0s 6ms/step - loss: 2.4296 - accuracy: 0.2365\n",
      "Epoch 30/200\n",
      "73/73 [==============================] - 0s 6ms/step - loss: 2.4334 - accuracy: 0.2413\n",
      "Epoch 31/200\n",
      "73/73 [==============================] - 0s 6ms/step - loss: 2.3846 - accuracy: 0.2451\n",
      "Epoch 32/200\n",
      "73/73 [==============================] - 0s 6ms/step - loss: 2.3297 - accuracy: 0.2590\n",
      "Epoch 33/200\n",
      "73/73 [==============================] - 0s 6ms/step - loss: 2.3341 - accuracy: 0.2741\n",
      "Epoch 34/200\n",
      "73/73 [==============================] - 0s 6ms/step - loss: 2.2303 - accuracy: 0.2849\n",
      "Epoch 35/200\n",
      "73/73 [==============================] - 0s 6ms/step - loss: 2.1974 - accuracy: 0.2956\n",
      "Epoch 36/200\n",
      "73/73 [==============================] - 0s 6ms/step - loss: 2.2030 - accuracy: 0.2823\n",
      "Epoch 37/200\n",
      "73/73 [==============================] - 0s 6ms/step - loss: 2.0426 - accuracy: 0.3319\n",
      "Epoch 38/200\n",
      "73/73 [==============================] - 0s 6ms/step - loss: 2.0607 - accuracy: 0.3215\n",
      "Epoch 39/200\n",
      "73/73 [==============================] - 0s 6ms/step - loss: 1.9765 - accuracy: 0.3392\n",
      "Epoch 40/200\n",
      "73/73 [==============================] - 0s 6ms/step - loss: 2.0861 - accuracy: 0.3246\n",
      "Epoch 41/200\n",
      "73/73 [==============================] - 0s 6ms/step - loss: 1.8815 - accuracy: 0.3556\n",
      "Epoch 42/200\n",
      "73/73 [==============================] - 0s 5ms/step - loss: 1.9211 - accuracy: 0.3625\n",
      "Epoch 43/200\n",
      "73/73 [==============================] - 0s 6ms/step - loss: 2.0370 - accuracy: 0.3297\n",
      "Epoch 44/200\n",
      "73/73 [==============================] - 0s 6ms/step - loss: 1.8794 - accuracy: 0.3625\n",
      "Epoch 45/200\n",
      "73/73 [==============================] - 0s 6ms/step - loss: 1.8507 - accuracy: 0.3699\n",
      "Epoch 46/200\n",
      "73/73 [==============================] - 0s 6ms/step - loss: 1.9265 - accuracy: 0.3574\n",
      "Epoch 47/200\n",
      "73/73 [==============================] - 0s 5ms/step - loss: 1.7951 - accuracy: 0.3889\n",
      "Epoch 48/200\n",
      "73/73 [==============================] - 0s 6ms/step - loss: 1.7747 - accuracy: 0.3884\n",
      "Epoch 49/200\n",
      "73/73 [==============================] - 0s 6ms/step - loss: 1.6995 - accuracy: 0.4212\n",
      "Epoch 50/200\n",
      "73/73 [==============================] - 0s 6ms/step - loss: 1.8099 - accuracy: 0.3824\n",
      "Epoch 51/200\n",
      "73/73 [==============================] - 1s 7ms/step - loss: 1.6979 - accuracy: 0.4070\n",
      "Epoch 52/200\n",
      "73/73 [==============================] - 0s 6ms/step - loss: 1.7630 - accuracy: 0.4014\n",
      "Epoch 53/200\n",
      "73/73 [==============================] - 0s 6ms/step - loss: 1.7033 - accuracy: 0.4169\n",
      "Epoch 54/200\n",
      "73/73 [==============================] - 0s 6ms/step - loss: 1.5989 - accuracy: 0.4398\n",
      "Epoch 55/200\n",
      "73/73 [==============================] - 0s 6ms/step - loss: 1.6411 - accuracy: 0.4312\n",
      "Epoch 56/200\n",
      "73/73 [==============================] - 0s 6ms/step - loss: 1.6507 - accuracy: 0.4130\n",
      "Epoch 57/200\n",
      "73/73 [==============================] - 0s 6ms/step - loss: 1.5538 - accuracy: 0.4549\n",
      "Epoch 58/200\n",
      "73/73 [==============================] - 0s 6ms/step - loss: 1.5339 - accuracy: 0.4592\n",
      "Epoch 59/200\n",
      "73/73 [==============================] - 0s 6ms/step - loss: 1.5358 - accuracy: 0.4674\n",
      "Epoch 60/200\n",
      "73/73 [==============================] - 0s 6ms/step - loss: 1.5232 - accuracy: 0.4631\n",
      "Epoch 61/200\n",
      "73/73 [==============================] - 0s 6ms/step - loss: 1.5616 - accuracy: 0.4579\n",
      "Epoch 62/200\n",
      "73/73 [==============================] - 0s 6ms/step - loss: 1.5243 - accuracy: 0.4579\n",
      "Epoch 63/200\n",
      "73/73 [==============================] - 0s 6ms/step - loss: 1.4016 - accuracy: 0.5011\n",
      "Epoch 64/200\n",
      "73/73 [==============================] - 0s 5ms/step - loss: 1.4387 - accuracy: 0.4946\n",
      "Epoch 65/200\n",
      "73/73 [==============================] - 0s 5ms/step - loss: 1.3743 - accuracy: 0.5041\n",
      "Epoch 66/200\n",
      "73/73 [==============================] - 0s 6ms/step - loss: 1.4373 - accuracy: 0.4860\n",
      "Epoch 67/200\n",
      "73/73 [==============================] - 0s 6ms/step - loss: 1.3484 - accuracy: 0.5110\n",
      "Epoch 68/200\n",
      "73/73 [==============================] - 0s 6ms/step - loss: 1.4257 - accuracy: 0.5071\n",
      "Epoch 69/200\n",
      "73/73 [==============================] - 0s 6ms/step - loss: 1.4747 - accuracy: 0.4795\n",
      "Epoch 70/200\n",
      "73/73 [==============================] - 0s 6ms/step - loss: 1.3693 - accuracy: 0.5123\n",
      "Epoch 71/200\n",
      "73/73 [==============================] - 0s 6ms/step - loss: 1.2607 - accuracy: 0.5442\n",
      "Epoch 72/200\n",
      "73/73 [==============================] - 0s 6ms/step - loss: 1.2733 - accuracy: 0.5391\n",
      "Epoch 73/200\n",
      "73/73 [==============================] - 0s 6ms/step - loss: 1.2634 - accuracy: 0.5481\n",
      "Epoch 74/200\n",
      "73/73 [==============================] - 0s 6ms/step - loss: 1.4695 - accuracy: 0.4955\n",
      "Epoch 75/200\n",
      "73/73 [==============================] - 0s 6ms/step - loss: 1.3022 - accuracy: 0.5378\n",
      "Epoch 76/200\n",
      "73/73 [==============================] - 0s 6ms/step - loss: 1.2666 - accuracy: 0.5490\n",
      "Epoch 77/200\n",
      "73/73 [==============================] - 0s 6ms/step - loss: 1.1884 - accuracy: 0.5719\n",
      "Epoch 78/200\n",
      "73/73 [==============================] - 0s 6ms/step - loss: 1.1947 - accuracy: 0.5667\n",
      "Epoch 79/200\n",
      "73/73 [==============================] - 0s 6ms/step - loss: 1.4524 - accuracy: 0.4972\n",
      "Epoch 80/200\n",
      "73/73 [==============================] - 0s 7ms/step - loss: 1.3422 - accuracy: 0.5218\n",
      "Epoch 81/200\n",
      "73/73 [==============================] - 0s 6ms/step - loss: 1.2756 - accuracy: 0.5334\n",
      "Epoch 82/200\n",
      "73/73 [==============================] - 0s 6ms/step - loss: 1.1211 - accuracy: 0.5822\n",
      "Epoch 83/200\n",
      "73/73 [==============================] - 0s 6ms/step - loss: 1.1562 - accuracy: 0.5904\n",
      "Epoch 84/200\n",
      "73/73 [==============================] - 0s 6ms/step - loss: 1.1503 - accuracy: 0.5827\n",
      "Epoch 85/200\n",
      "73/73 [==============================] - 0s 6ms/step - loss: 1.2156 - accuracy: 0.5783\n",
      "Epoch 86/200\n",
      "73/73 [==============================] - 0s 6ms/step - loss: 1.2197 - accuracy: 0.5511\n",
      "Epoch 87/200\n",
      "73/73 [==============================] - 0s 6ms/step - loss: 1.1935 - accuracy: 0.5671\n",
      "Epoch 88/200\n",
      "73/73 [==============================] - 0s 5ms/step - loss: 1.1103 - accuracy: 0.5934\n",
      "Epoch 89/200\n",
      "73/73 [==============================] - 0s 6ms/step - loss: 1.0373 - accuracy: 0.6176\n",
      "Epoch 90/200\n",
      "73/73 [==============================] - 0s 6ms/step - loss: 1.1240 - accuracy: 0.5904\n",
      "Epoch 91/200\n",
      "73/73 [==============================] - 0s 6ms/step - loss: 1.2944 - accuracy: 0.5421\n",
      "Epoch 92/200\n",
      "73/73 [==============================] - 0s 6ms/step - loss: 1.0798 - accuracy: 0.6055\n",
      "Epoch 93/200\n",
      "73/73 [==============================] - 0s 7ms/step - loss: 1.0327 - accuracy: 0.6219\n",
      "Epoch 94/200\n",
      "73/73 [==============================] - 0s 5ms/step - loss: 1.1808 - accuracy: 0.5814\n",
      "Epoch 95/200\n",
      "73/73 [==============================] - 0s 6ms/step - loss: 1.2104 - accuracy: 0.5662\n",
      "Epoch 96/200\n",
      "73/73 [==============================] - 0s 6ms/step - loss: 1.1245 - accuracy: 0.5896\n",
      "Epoch 97/200\n",
      "73/73 [==============================] - 0s 4ms/step - loss: 1.0846 - accuracy: 0.6055\n",
      "Epoch 98/200\n",
      "73/73 [==============================] - 0s 6ms/step - loss: 1.0380 - accuracy: 0.6124\n",
      "Epoch 99/200\n",
      "73/73 [==============================] - 0s 5ms/step - loss: 1.0259 - accuracy: 0.6146\n",
      "Epoch 100/200\n",
      "73/73 [==============================] - 0s 4ms/step - loss: 0.9842 - accuracy: 0.6323\n",
      "Epoch 101/200\n",
      "73/73 [==============================] - 0s 4ms/step - loss: 0.9952 - accuracy: 0.6478\n",
      "Epoch 102/200\n",
      "73/73 [==============================] - 0s 4ms/step - loss: 0.9798 - accuracy: 0.6409\n",
      "Epoch 103/200\n",
      "73/73 [==============================] - 0s 4ms/step - loss: 1.2371 - accuracy: 0.5650\n",
      "Epoch 104/200\n",
      "73/73 [==============================] - 0s 6ms/step - loss: 1.1695 - accuracy: 0.5835\n",
      "Epoch 105/200\n",
      "73/73 [==============================] - 0s 6ms/step - loss: 0.9738 - accuracy: 0.6357\n",
      "Epoch 106/200\n",
      "73/73 [==============================] - 0s 6ms/step - loss: 0.9949 - accuracy: 0.6366\n",
      "Epoch 107/200\n",
      "73/73 [==============================] - 0s 6ms/step - loss: 1.0584 - accuracy: 0.6297\n",
      "Epoch 108/200\n",
      "73/73 [==============================] - 0s 6ms/step - loss: 1.0699 - accuracy: 0.6029\n",
      "Epoch 109/200\n",
      "73/73 [==============================] - 0s 6ms/step - loss: 0.9808 - accuracy: 0.6375\n",
      "Epoch 110/200\n",
      "73/73 [==============================] - 0s 6ms/step - loss: 0.9645 - accuracy: 0.6340\n",
      "Epoch 111/200\n",
      "73/73 [==============================] - 0s 6ms/step - loss: 0.9255 - accuracy: 0.6612\n",
      "Epoch 112/200\n",
      "73/73 [==============================] - 0s 6ms/step - loss: 1.0495 - accuracy: 0.6310\n",
      "Epoch 113/200\n",
      "73/73 [==============================] - 0s 6ms/step - loss: 1.3137 - accuracy: 0.5468\n",
      "Epoch 114/200\n",
      "73/73 [==============================] - 0s 6ms/step - loss: 0.9809 - accuracy: 0.6362\n",
      "Epoch 115/200\n",
      "73/73 [==============================] - 0s 6ms/step - loss: 0.9316 - accuracy: 0.6452\n",
      "Epoch 116/200\n",
      "73/73 [==============================] - 0s 6ms/step - loss: 0.9862 - accuracy: 0.6396\n",
      "Epoch 117/200\n",
      "73/73 [==============================] - 0s 6ms/step - loss: 0.9070 - accuracy: 0.6560\n",
      "Epoch 118/200\n",
      "73/73 [==============================] - 0s 6ms/step - loss: 1.0238 - accuracy: 0.6319\n",
      "Epoch 119/200\n",
      "73/73 [==============================] - 0s 6ms/step - loss: 0.9658 - accuracy: 0.6357\n",
      "Epoch 120/200\n",
      "73/73 [==============================] - 1s 8ms/step - loss: 0.9395 - accuracy: 0.6552\n",
      "Epoch 121/200\n",
      "73/73 [==============================] - 0s 5ms/step - loss: 0.9834 - accuracy: 0.6478\n",
      "Epoch 122/200\n",
      "73/73 [==============================] - 0s 5ms/step - loss: 1.0870 - accuracy: 0.6215\n",
      "Epoch 123/200\n",
      "73/73 [==============================] - 0s 5ms/step - loss: 1.0190 - accuracy: 0.6284\n",
      "Epoch 124/200\n",
      "73/73 [==============================] - 0s 3ms/step - loss: 0.9047 - accuracy: 0.6577\n",
      "Epoch 125/200\n",
      "73/73 [==============================] - 0s 4ms/step - loss: 0.8706 - accuracy: 0.6741\n",
      "Epoch 126/200\n",
      "73/73 [==============================] - 0s 4ms/step - loss: 0.9413 - accuracy: 0.6569\n",
      "Epoch 127/200\n",
      "73/73 [==============================] - 0s 6ms/step - loss: 0.8538 - accuracy: 0.6823\n",
      "Epoch 128/200\n",
      "73/73 [==============================] - 0s 6ms/step - loss: 0.7472 - accuracy: 0.7242\n",
      "Epoch 129/200\n",
      "73/73 [==============================] - 0s 6ms/step - loss: 0.7504 - accuracy: 0.7169\n",
      "Epoch 130/200\n",
      "73/73 [==============================] - 0s 6ms/step - loss: 0.9927 - accuracy: 0.6418\n",
      "Epoch 131/200\n",
      "73/73 [==============================] - 0s 6ms/step - loss: 1.0773 - accuracy: 0.6155\n",
      "Epoch 132/200\n",
      "73/73 [==============================] - 0s 6ms/step - loss: 0.8871 - accuracy: 0.6651\n",
      "Epoch 133/200\n",
      "73/73 [==============================] - 0s 6ms/step - loss: 0.7733 - accuracy: 0.7031\n",
      "Epoch 134/200\n",
      "73/73 [==============================] - 0s 6ms/step - loss: 0.7962 - accuracy: 0.6996\n",
      "Epoch 135/200\n",
      "73/73 [==============================] - 0s 6ms/step - loss: 0.8772 - accuracy: 0.6741\n",
      "Epoch 136/200\n",
      "73/73 [==============================] - 0s 6ms/step - loss: 0.9562 - accuracy: 0.6586\n",
      "Epoch 137/200\n",
      "73/73 [==============================] - 0s 6ms/step - loss: 0.9697 - accuracy: 0.6457\n",
      "Epoch 138/200\n",
      "73/73 [==============================] - 0s 6ms/step - loss: 0.8983 - accuracy: 0.6776\n",
      "Epoch 139/200\n",
      "73/73 [==============================] - 1s 7ms/step - loss: 0.9233 - accuracy: 0.6526\n",
      "Epoch 140/200\n",
      "73/73 [==============================] - 0s 6ms/step - loss: 0.8984 - accuracy: 0.6707\n",
      "Epoch 141/200\n",
      "73/73 [==============================] - 0s 6ms/step - loss: 0.8548 - accuracy: 0.6729\n",
      "Epoch 142/200\n",
      "73/73 [==============================] - 0s 6ms/step - loss: 0.8752 - accuracy: 0.6767\n",
      "Epoch 143/200\n",
      "73/73 [==============================] - 0s 6ms/step - loss: 1.0392 - accuracy: 0.6275\n",
      "Epoch 144/200\n",
      "73/73 [==============================] - 0s 6ms/step - loss: 0.9272 - accuracy: 0.6586\n",
      "Epoch 145/200\n",
      "73/73 [==============================] - 0s 6ms/step - loss: 0.8539 - accuracy: 0.6798\n",
      "Epoch 146/200\n",
      "73/73 [==============================] - 0s 6ms/step - loss: 0.7852 - accuracy: 0.6962\n",
      "Epoch 147/200\n",
      "73/73 [==============================] - 0s 6ms/step - loss: 0.6853 - accuracy: 0.7359\n",
      "Epoch 148/200\n",
      "73/73 [==============================] - 0s 6ms/step - loss: 0.7022 - accuracy: 0.7385\n",
      "Epoch 149/200\n",
      "73/73 [==============================] - 0s 6ms/step - loss: 0.8301 - accuracy: 0.7065\n",
      "Epoch 150/200\n",
      "73/73 [==============================] - 0s 6ms/step - loss: 0.7627 - accuracy: 0.7139\n",
      "Epoch 151/200\n",
      "73/73 [==============================] - 0s 6ms/step - loss: 0.8148 - accuracy: 0.6996\n",
      "Epoch 152/200\n",
      "73/73 [==============================] - 0s 6ms/step - loss: 0.8735 - accuracy: 0.6733\n",
      "Epoch 153/200\n",
      "73/73 [==============================] - 0s 6ms/step - loss: 0.8465 - accuracy: 0.6815\n",
      "Epoch 154/200\n",
      "73/73 [==============================] - 0s 6ms/step - loss: 0.9178 - accuracy: 0.6616\n",
      "Epoch 155/200\n",
      "73/73 [==============================] - 1s 9ms/step - loss: 0.9717 - accuracy: 0.6569\n",
      "Epoch 156/200\n",
      "73/73 [==============================] - 0s 6ms/step - loss: 0.9171 - accuracy: 0.6625\n",
      "Epoch 157/200\n",
      "73/73 [==============================] - 0s 6ms/step - loss: 0.8636 - accuracy: 0.6720\n",
      "Epoch 158/200\n",
      "73/73 [==============================] - 0s 3ms/step - loss: 0.8324 - accuracy: 0.6923\n",
      "Epoch 159/200\n",
      "73/73 [==============================] - 0s 4ms/step - loss: 0.7801 - accuracy: 0.7069\n",
      "Epoch 160/200\n",
      "73/73 [==============================] - 0s 4ms/step - loss: 0.8048 - accuracy: 0.6944\n",
      "Epoch 161/200\n",
      "73/73 [==============================] - 1s 7ms/step - loss: 0.7421 - accuracy: 0.7113\n",
      "Epoch 162/200\n",
      "73/73 [==============================] - 0s 6ms/step - loss: 0.7527 - accuracy: 0.7182\n",
      "Epoch 163/200\n",
      "73/73 [==============================] - 0s 6ms/step - loss: 0.6902 - accuracy: 0.7333\n",
      "Epoch 164/200\n",
      "73/73 [==============================] - 0s 4ms/step - loss: 0.8314 - accuracy: 0.6880\n",
      "Epoch 165/200\n",
      "73/73 [==============================] - 0s 5ms/step - loss: 0.9959 - accuracy: 0.6444\n",
      "Epoch 166/200\n",
      "73/73 [==============================] - 0s 6ms/step - loss: 0.7729 - accuracy: 0.7121\n",
      "Epoch 167/200\n",
      "73/73 [==============================] - 0s 7ms/step - loss: 0.8516 - accuracy: 0.6845\n",
      "Epoch 168/200\n",
      "73/73 [==============================] - 0s 7ms/step - loss: 1.1451 - accuracy: 0.6185\n",
      "Epoch 169/200\n",
      "73/73 [==============================] - 0s 6ms/step - loss: 0.7643 - accuracy: 0.7126\n",
      "Epoch 170/200\n",
      "73/73 [==============================] - 0s 6ms/step - loss: 0.6643 - accuracy: 0.7488\n",
      "Epoch 171/200\n",
      "73/73 [==============================] - 0s 6ms/step - loss: 0.6406 - accuracy: 0.7505\n",
      "Epoch 172/200\n",
      "73/73 [==============================] - 0s 6ms/step - loss: 0.6213 - accuracy: 0.7639\n",
      "Epoch 173/200\n",
      "73/73 [==============================] - 0s 6ms/step - loss: 0.7570 - accuracy: 0.7208\n",
      "Epoch 174/200\n",
      "73/73 [==============================] - 0s 6ms/step - loss: 0.8233 - accuracy: 0.6949\n",
      "Epoch 175/200\n",
      "73/73 [==============================] - 0s 6ms/step - loss: 0.6885 - accuracy: 0.7268\n",
      "Epoch 176/200\n",
      "73/73 [==============================] - 0s 6ms/step - loss: 0.6257 - accuracy: 0.7492\n",
      "Epoch 177/200\n",
      "73/73 [==============================] - 0s 6ms/step - loss: 0.6738 - accuracy: 0.7497\n",
      "Epoch 178/200\n",
      "73/73 [==============================] - 0s 7ms/step - loss: 0.7159 - accuracy: 0.7298\n",
      "Epoch 179/200\n",
      "73/73 [==============================] - 0s 7ms/step - loss: 0.7715 - accuracy: 0.7177\n",
      "Epoch 180/200\n",
      "73/73 [==============================] - 0s 7ms/step - loss: 0.8235 - accuracy: 0.6996\n",
      "Epoch 181/200\n",
      "73/73 [==============================] - 0s 6ms/step - loss: 0.9282 - accuracy: 0.6664\n",
      "Epoch 182/200\n",
      "73/73 [==============================] - 0s 6ms/step - loss: 0.8878 - accuracy: 0.6759\n",
      "Epoch 183/200\n",
      "73/73 [==============================] - 0s 6ms/step - loss: 0.7084 - accuracy: 0.7389\n",
      "Epoch 184/200\n",
      "73/73 [==============================] - 0s 6ms/step - loss: 0.6595 - accuracy: 0.7423\n",
      "Epoch 185/200\n",
      "73/73 [==============================] - 0s 6ms/step - loss: 0.7903 - accuracy: 0.7151\n",
      "Epoch 186/200\n",
      "73/73 [==============================] - 0s 6ms/step - loss: 0.7981 - accuracy: 0.7044\n",
      "Epoch 187/200\n",
      "73/73 [==============================] - 0s 6ms/step - loss: 0.7260 - accuracy: 0.7298\n",
      "Epoch 188/200\n",
      "73/73 [==============================] - 0s 6ms/step - loss: 0.7566 - accuracy: 0.7203\n",
      "Epoch 189/200\n",
      "73/73 [==============================] - 0s 6ms/step - loss: 0.6822 - accuracy: 0.7428\n",
      "Epoch 190/200\n",
      "73/73 [==============================] - 0s 6ms/step - loss: 0.6066 - accuracy: 0.7631\n",
      "Epoch 191/200\n",
      "73/73 [==============================] - 0s 6ms/step - loss: 0.5843 - accuracy: 0.7700\n",
      "Epoch 192/200\n",
      "73/73 [==============================] - 0s 6ms/step - loss: 0.6933 - accuracy: 0.7458\n",
      "Epoch 193/200\n",
      "73/73 [==============================] - 0s 6ms/step - loss: 0.8069 - accuracy: 0.7078\n",
      "Epoch 194/200\n",
      "73/73 [==============================] - 0s 6ms/step - loss: 0.7421 - accuracy: 0.7255\n",
      "Epoch 195/200\n",
      "73/73 [==============================] - 0s 6ms/step - loss: 0.5856 - accuracy: 0.7695\n",
      "Epoch 196/200\n",
      "73/73 [==============================] - 0s 6ms/step - loss: 0.7342 - accuracy: 0.7285\n",
      "Epoch 197/200\n",
      "73/73 [==============================] - 0s 6ms/step - loss: 0.8325 - accuracy: 0.7039\n",
      "Epoch 198/200\n",
      "73/73 [==============================] - 0s 6ms/step - loss: 0.7023 - accuracy: 0.7298\n",
      "Epoch 199/200\n",
      "73/73 [==============================] - 0s 6ms/step - loss: 0.7174 - accuracy: 0.7346\n",
      "Epoch 200/200\n",
      "73/73 [==============================] - 0s 6ms/step - loss: 0.7784 - accuracy: 0.7259\n"
     ]
    },
    {
     "data": {
      "text/plain": "<keras.callbacks.History at 0x2bd42009930>"
     },
     "execution_count": 308,
     "metadata": {},
     "output_type": "execute_result"
    }
   ],
   "source": [
    "tf.random.set_seed(42)\n",
    "\n",
    "gpu_model_1 = tf.keras.Sequential() #to add nuron\n",
    "gpu_model_1.add(tf.keras.layers.Flatten()) #convert 2d into 1d\n",
    "gpu_model_1.add(tf.keras.layers.Dense(43, activation='relu')) #make lines\n",
    "#checking lines\n",
    "gpu_model_1.add(tf.keras.layers.Dense(57, activation='relu'))\n",
    "gpu_model_1.add(tf.keras.layers.Dense(43, activation='relu'))\n",
    "gpu_model_1.add(tf.keras.layers.Dense(57, activation='relu'))\n",
    "gpu_model_1.add(tf.keras.layers.Dense(43, activation='relu'))\n",
    "gpu_model_1.add(tf.keras.layers.Dense(43, activation='relu'))\n",
    "gpu_model_1.add(tf.keras.layers.Dense(2317, activation='softmax'))\n",
    "#how to check\n",
    "gpu_model_1.compile(\n",
    "    loss = tf.keras.losses.SparseCategoricalCrossentropy(),\n",
    "    optimizer = tf.keras.optimizers.Adam(0.0009),#learning rate\n",
    "    metrics = ['accuracy']\n",
    ")\n",
    "\n",
    "gpu_model_1.fit(X, y, epochs=200)\n"
   ]
  },
  {
   "cell_type": "code",
   "execution_count": 309,
   "outputs": [],
   "source": [
    "prob = gpu_model_1.predict(X)\n",
    "predict = prob.argmax(axis=1)"
   ],
   "metadata": {
    "collapsed": false,
    "pycharm": {
     "name": "#%%\n"
    }
   }
  },
  {
   "cell_type": "markdown",
   "source": [],
   "metadata": {
    "collapsed": false
   }
  },
  {
   "cell_type": "code",
   "execution_count": 310,
   "outputs": [],
   "source": [
    "from keras.models import load_model\n",
    "gpu_model_1.save('model.h5')"
   ],
   "metadata": {
    "collapsed": false,
    "pycharm": {
     "name": "#%%\n"
    }
   }
  },
  {
   "cell_type": "code",
   "execution_count": 311,
   "outputs": [
    {
     "data": {
      "text/plain": "0                       GeForce RTX 3090 Ti\n1                       GeForce RTX 3080 Ti\n2                          GeForce RTX 3090\n3                         Radeon RX 6900 XT\n4                          GeForce RTX 3080\n                       ...                 \n2312    Intel 82852/82855 GM/GME Controller\n2313                            Quadro2 Pro\n2314                           Rage 128 Pro\n2315               RAGE 128 PRO AGP 4X TMDS\n2316                        S3 ProSavageDDR\nName: gpuName, Length: 2317, dtype: object"
     },
     "execution_count": 203,
     "metadata": {},
     "output_type": "execute_result"
    },
    {
     "data": {
      "text/plain": "0                       GeForce RTX 3090 Ti\n1                       GeForce RTX 3080 Ti\n2                          GeForce RTX 3090\n3                         Radeon RX 6900 XT\n4                          GeForce RTX 3080\n                       ...                 \n2312    Intel 82852/82855 GM/GME Controller\n2313                            Quadro2 Pro\n2314                           Rage 128 Pro\n2315               RAGE 128 PRO AGP 4X TMDS\n2316                        S3 ProSavageDDR\nName: gpuName, Length: 2317, dtype: object"
     },
     "execution_count": 311,
     "metadata": {},
     "output_type": "execute_result"
    }
   ],
   "source": [
    "df['gpuName']"
   ],
   "metadata": {
    "collapsed": false,
    "pycharm": {
     "name": "#%%\n"
    }
   }
  },
  {
   "cell_type": "code",
   "execution_count": 312,
   "outputs": [
    {
     "data": {
      "text/plain": "0                       GeForce RTX 3090 Ti\n1                       GeForce RTX 3080 Ti\n0                       GeForce RTX 3090 Ti\n3                         Radeon RX 6900 XT\n3                         Radeon RX 6900 XT\n                       ...                 \n2312    Intel 82852/82855 GM/GME Controller\n2315               RAGE 128 PRO AGP 4X TMDS\n2311                               IGP 340M\n2315               RAGE 128 PRO AGP 4X TMDS\n2311                               IGP 340M\nName: gpuName, Length: 2317, dtype: object"
     },
     "execution_count": 204,
     "metadata": {},
     "output_type": "execute_result"
    },
    {
     "data": {
      "text/plain": "0                          GeForce RTX 3090 Ti\n1                          GeForce RTX 3080 Ti\n0                          GeForce RTX 3090 Ti\n1                          GeForce RTX 3080 Ti\n1                          GeForce RTX 3080 Ti\n                         ...                  \n2307    VIA Chrome9 HC IGP Prerelease WDDM 1.1\n2315                  RAGE 128 PRO AGP 4X TMDS\n2311                                  IGP 340M\n2315                  RAGE 128 PRO AGP 4X TMDS\n2311                                  IGP 340M\nName: gpuName, Length: 2317, dtype: object"
     },
     "execution_count": 312,
     "metadata": {},
     "output_type": "execute_result"
    }
   ],
   "source": [
    "df['gpuName'].iloc[predict]"
   ],
   "metadata": {
    "collapsed": false,
    "pycharm": {
     "name": "#%%\n"
    }
   }
  },
  {
   "cell_type": "code",
   "execution_count": 313,
   "outputs": [
    {
     "data": {
      "text/plain": "array([   0,    1,    0, ..., 2311, 2315, 2311], dtype=int64)"
     },
     "execution_count": 205,
     "metadata": {},
     "output_type": "execute_result"
    },
    {
     "data": {
      "text/plain": "array([   0,    1,    0, ..., 2311, 2315, 2311], dtype=int64)"
     },
     "execution_count": 313,
     "metadata": {},
     "output_type": "execute_result"
    }
   ],
   "source": [
    "predict"
   ],
   "metadata": {
    "collapsed": false,
    "pycharm": {
     "name": "#%%\n"
    }
   }
  },
  {
   "cell_type": "code",
   "execution_count": 314,
   "outputs": [
    {
     "data": {
      "text/plain": "76.04661199827363"
     },
     "execution_count": 206,
     "metadata": {},
     "output_type": "execute_result"
    },
    {
     "data": {
      "text/plain": "63.57358653431161"
     },
     "execution_count": 314,
     "metadata": {},
     "output_type": "execute_result"
    }
   ],
   "source": [
    "from sklearn.metrics import accuracy_score\n",
    "accuracy_score(y,predict)*100"
   ],
   "metadata": {
    "collapsed": false,
    "pycharm": {
     "name": "#%%\n"
    }
   }
  },
  {
   "cell_type": "code",
   "execution_count": 315,
   "outputs": [
    {
     "data": {
      "text/plain": "0                       GeForce RTX 3090 Ti\n1                       GeForce RTX 3080 Ti\n2                          GeForce RTX 3090\n3                         Radeon RX 6900 XT\n4                          GeForce RTX 3080\n                       ...                 \n2312    Intel 82852/82855 GM/GME Controller\n2313                            Quadro2 Pro\n2314                           Rage 128 Pro\n2315               RAGE 128 PRO AGP 4X TMDS\n2316                        S3 ProSavageDDR\nName: gpuName, Length: 2317, dtype: object"
     },
     "execution_count": 207,
     "metadata": {},
     "output_type": "execute_result"
    },
    {
     "data": {
      "text/plain": "0                       GeForce RTX 3090 Ti\n1                       GeForce RTX 3080 Ti\n2                          GeForce RTX 3090\n3                         Radeon RX 6900 XT\n4                          GeForce RTX 3080\n                       ...                 \n2312    Intel 82852/82855 GM/GME Controller\n2313                            Quadro2 Pro\n2314                           Rage 128 Pro\n2315               RAGE 128 PRO AGP 4X TMDS\n2316                        S3 ProSavageDDR\nName: gpuName, Length: 2317, dtype: object"
     },
     "execution_count": 315,
     "metadata": {},
     "output_type": "execute_result"
    }
   ],
   "source": [
    "df['gpuName']"
   ],
   "metadata": {
    "collapsed": false,
    "pycharm": {
     "name": "#%%\n"
    }
   }
  },
  {
   "cell_type": "markdown",
   "source": [],
   "metadata": {
    "collapsed": false
   }
  },
  {
   "cell_type": "code",
   "execution_count": 316,
   "outputs": [
    {
     "data": {
      "text/plain": "Index(['gpuName', 'G3Dmark', 'G2Dmark', 'price', 'gpuValue', 'TDP',\n       'powerPerformance', 'testDate', 'Desktop', 'Desktop, Mobile', 'Mobile',\n       'Mobile, Workstation', 'Unknown', 'Workstation'],\n      dtype='object')"
     },
     "execution_count": 208,
     "metadata": {},
     "output_type": "execute_result"
    },
    {
     "data": {
      "text/plain": "Index(['gpuName', 'G3Dmark', 'G2Dmark', 'price', 'gpuValue', 'TDP',\n       'powerPerformance', 'testDate', 'Desktop', 'Desktop, Mobile', 'Mobile',\n       'Mobile, Workstation', 'Unknown', 'Workstation'],\n      dtype='object')"
     },
     "execution_count": 316,
     "metadata": {},
     "output_type": "execute_result"
    }
   ],
   "source": [
    "df.columns"
   ],
   "metadata": {
    "collapsed": false,
    "pycharm": {
     "name": "#%%\n"
    }
   }
  },
  {
   "cell_type": "code",
   "execution_count": 317,
   "outputs": [
    {
     "data": {
      "text/plain": "29094"
     },
     "execution_count": 209,
     "metadata": {},
     "output_type": "execute_result"
    },
    {
     "data": {
      "text/plain": "29094"
     },
     "execution_count": 317,
     "metadata": {},
     "output_type": "execute_result"
    }
   ],
   "source": [
    "df['G3Dmark'].max()"
   ],
   "metadata": {
    "collapsed": false,
    "pycharm": {
     "name": "#%%\n"
    }
   }
  },
  {
   "cell_type": "code",
   "execution_count": 318,
   "outputs": [
    {
     "data": {
      "text/plain": "1"
     },
     "execution_count": 210,
     "metadata": {},
     "output_type": "execute_result"
    },
    {
     "data": {
      "text/plain": "1"
     },
     "execution_count": 318,
     "metadata": {},
     "output_type": "execute_result"
    }
   ],
   "source": [
    "df['G3Dmark'].min()"
   ],
   "metadata": {
    "collapsed": false,
    "pycharm": {
     "name": "#%%\n"
    }
   }
  },
  {
   "cell_type": "code",
   "execution_count": 319,
   "outputs": [
    {
     "data": {
      "text/plain": "array([2022, 2021, 2020, 2018, 2019, 2017, 2016, 2015, 2014, 2013, 2012,\n       2010, 2011, 2009], dtype=int64)"
     },
     "execution_count": 211,
     "metadata": {},
     "output_type": "execute_result"
    },
    {
     "data": {
      "text/plain": "array([2022, 2021, 2020, 2018, 2019, 2017, 2016, 2015, 2014, 2013, 2012,\n       2010, 2011, 2009], dtype=int64)"
     },
     "execution_count": 319,
     "metadata": {},
     "output_type": "execute_result"
    }
   ],
   "source": [
    "df['testDate'].unique()"
   ],
   "metadata": {
    "collapsed": false,
    "pycharm": {
     "name": "#%%\n"
    }
   }
  },
  {
   "cell_type": "code",
   "execution_count": 320,
   "outputs": [
    {
     "data": {
      "text/plain": "69.73"
     },
     "execution_count": 212,
     "metadata": {},
     "output_type": "execute_result"
    },
    {
     "data": {
      "text/plain": "69.73"
     },
     "execution_count": 320,
     "metadata": {},
     "output_type": "execute_result"
    }
   ],
   "source": [
    "df['gpuValue'].max()"
   ],
   "metadata": {
    "collapsed": false,
    "pycharm": {
     "name": "#%%\n"
    }
   }
  },
  {
   "cell_type": "code",
   "execution_count": 321,
   "outputs": [
    {
     "data": {
      "text/plain": "0.0"
     },
     "execution_count": 213,
     "metadata": {},
     "output_type": "execute_result"
    },
    {
     "data": {
      "text/plain": "0.0"
     },
     "execution_count": 321,
     "metadata": {},
     "output_type": "execute_result"
    }
   ],
   "source": [
    "df['gpuValue'].min()"
   ],
   "metadata": {
    "collapsed": false,
    "pycharm": {
     "name": "#%%\n"
    }
   }
  },
  {
   "cell_type": "code",
   "execution_count": 322,
   "outputs": [
    {
     "data": {
      "text/plain": "4.4"
     },
     "execution_count": 214,
     "metadata": {},
     "output_type": "execute_result"
    },
    {
     "data": {
      "text/plain": "4.4"
     },
     "execution_count": 322,
     "metadata": {},
     "output_type": "execute_result"
    }
   ],
   "source": [
    "df['TDP'].min()"
   ],
   "metadata": {
    "collapsed": false,
    "pycharm": {
     "name": "#%%\n"
    }
   }
  },
  {
   "cell_type": "code",
   "execution_count": 323,
   "outputs": [
    {
     "data": {
      "text/plain": "500.0"
     },
     "execution_count": 215,
     "metadata": {},
     "output_type": "execute_result"
    },
    {
     "data": {
      "text/plain": "500.0"
     },
     "execution_count": 323,
     "metadata": {},
     "output_type": "execute_result"
    }
   ],
   "source": [
    "df['TDP'].max()"
   ],
   "metadata": {
    "collapsed": false,
    "pycharm": {
     "name": "#%%\n"
    }
   }
  }
 ],
 "metadata": {
  "interpreter": {
   "hash": "8ffc6c729e724d0447c8f67e3036385f1322fb5c4fee9c913a34d0d020990e85"
  },
  "kernelspec": {
   "display_name": "Python 3.7.13 ('Tensorflow-runner')",
   "language": "python",
   "name": "python3"
  },
  "language_info": {
   "codemirror_mode": {
    "name": "ipython",
    "version": 3
   },
   "file_extension": ".py",
   "mimetype": "text/x-python",
   "name": "python",
   "nbconvert_exporter": "python",
   "pygments_lexer": "ipython3",
   "version": "3.7.13"
  },
  "orig_nbformat": 4
 },
 "nbformat": 4,
 "nbformat_minor": 2
}