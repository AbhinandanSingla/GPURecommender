{
 "cells": [
  {
   "cell_type": "code",
   "execution_count": 1,
   "metadata": {
    "collapsed": true
   },
   "outputs": [],
   "source": [
    "import tensorflow as tf"
   ]
  },
  {
   "cell_type": "code",
   "execution_count": 2,
   "outputs": [
    {
     "name": "stderr",
     "output_type": "stream",
     "text": [
      "UsageError: Line magic function `%` not found.\n"
     ]
    }
   ],
   "source": [
    "import pandas as pd\n",
    "import matplotlib.pyplot as plt\n",
    "import seaborn as sns\n",
    "import numpy as np\n",
    "% matplotlib inline"
   ],
   "metadata": {
    "collapsed": false,
    "pycharm": {
     "name": "#%%\n"
    }
   }
  },
  {
   "cell_type": "code",
   "execution_count": 3,
   "outputs": [],
   "source": [
    "df1 = pd.read_csv('./datasets/CPU_r23_v2.csv')\n",
    "df2 = pd.read_csv('./datasets/CPU_benchmark_v4.csv')\n",
    "df3 = pd.read_csv('./datasets/GPU_benchmarks_v7.csv')\n",
    "df4 = pd.read_csv('./datasets/GPU_scores_graphicsAPIs.csv')"
   ],
   "metadata": {
    "collapsed": false,
    "pycharm": {
     "name": "#%%\n"
    }
   }
  },
  {
   "cell_type": "code",
   "execution_count": 4,
   "outputs": [
    {
     "data": {
      "text/plain": "               gpuName  G3Dmark  G2Dmark    price  gpuValue    TDP  \\\n0  GeForce RTX 3090 Ti    29094     1117  2099.99     13.85  450.0   \n1  GeForce RTX 3080 Ti    26887     1031  1199.99     22.41  350.0   \n2     GeForce RTX 3090    26395      999  1749.99     15.08  350.0   \n3    Radeon RX 6900 XT    25458     1102  1120.31     22.72  300.0   \n4     GeForce RTX 3080    24853     1003   999.00     24.88  320.0   \n\n   powerPerformance  testDate category  \n0             64.65      2022  Unknown  \n1             76.82      2021  Desktop  \n2             75.41      2020  Desktop  \n3             84.86      2020  Desktop  \n4             77.66      2020  Desktop  ",
      "text/html": "<div>\n<style scoped>\n    .dataframe tbody tr th:only-of-type {\n        vertical-align: middle;\n    }\n\n    .dataframe tbody tr th {\n        vertical-align: top;\n    }\n\n    .dataframe thead th {\n        text-align: right;\n    }\n</style>\n<table border=\"1\" class=\"dataframe\">\n  <thead>\n    <tr style=\"text-align: right;\">\n      <th></th>\n      <th>gpuName</th>\n      <th>G3Dmark</th>\n      <th>G2Dmark</th>\n      <th>price</th>\n      <th>gpuValue</th>\n      <th>TDP</th>\n      <th>powerPerformance</th>\n      <th>testDate</th>\n      <th>category</th>\n    </tr>\n  </thead>\n  <tbody>\n    <tr>\n      <th>0</th>\n      <td>GeForce RTX 3090 Ti</td>\n      <td>29094</td>\n      <td>1117</td>\n      <td>2099.99</td>\n      <td>13.85</td>\n      <td>450.0</td>\n      <td>64.65</td>\n      <td>2022</td>\n      <td>Unknown</td>\n    </tr>\n    <tr>\n      <th>1</th>\n      <td>GeForce RTX 3080 Ti</td>\n      <td>26887</td>\n      <td>1031</td>\n      <td>1199.99</td>\n      <td>22.41</td>\n      <td>350.0</td>\n      <td>76.82</td>\n      <td>2021</td>\n      <td>Desktop</td>\n    </tr>\n    <tr>\n      <th>2</th>\n      <td>GeForce RTX 3090</td>\n      <td>26395</td>\n      <td>999</td>\n      <td>1749.99</td>\n      <td>15.08</td>\n      <td>350.0</td>\n      <td>75.41</td>\n      <td>2020</td>\n      <td>Desktop</td>\n    </tr>\n    <tr>\n      <th>3</th>\n      <td>Radeon RX 6900 XT</td>\n      <td>25458</td>\n      <td>1102</td>\n      <td>1120.31</td>\n      <td>22.72</td>\n      <td>300.0</td>\n      <td>84.86</td>\n      <td>2020</td>\n      <td>Desktop</td>\n    </tr>\n    <tr>\n      <th>4</th>\n      <td>GeForce RTX 3080</td>\n      <td>24853</td>\n      <td>1003</td>\n      <td>999.00</td>\n      <td>24.88</td>\n      <td>320.0</td>\n      <td>77.66</td>\n      <td>2020</td>\n      <td>Desktop</td>\n    </tr>\n  </tbody>\n</table>\n</div>"
     },
     "execution_count": 4,
     "metadata": {},
     "output_type": "execute_result"
    }
   ],
   "source": [
    "df3.head()"
   ],
   "metadata": {
    "collapsed": false,
    "pycharm": {
     "name": "#%%\n"
    }
   }
  },
  {
   "cell_type": "code",
   "execution_count": 5,
   "outputs": [
    {
     "data": {
      "text/plain": "  Manufacturer               Device      CUDA  Metal    OpenCL    Vulkan\n0       Nvidia  GeForce RTX 3090 Ti  260346.0    NaN  229738.0  141134.0\n1       Nvidia       A100 80GB PCIe  259828.0    NaN  214586.0       NaN\n2       Nvidia       A100-PCIE-80GB  256292.0    NaN  207124.0       NaN\n3       Nvidia     GeForce RTX 3090  238123.0    NaN  204921.0  138859.0\n4       Nvidia       A100-SXM4-40GB  237220.0    NaN  190489.0       NaN",
      "text/html": "<div>\n<style scoped>\n    .dataframe tbody tr th:only-of-type {\n        vertical-align: middle;\n    }\n\n    .dataframe tbody tr th {\n        vertical-align: top;\n    }\n\n    .dataframe thead th {\n        text-align: right;\n    }\n</style>\n<table border=\"1\" class=\"dataframe\">\n  <thead>\n    <tr style=\"text-align: right;\">\n      <th></th>\n      <th>Manufacturer</th>\n      <th>Device</th>\n      <th>CUDA</th>\n      <th>Metal</th>\n      <th>OpenCL</th>\n      <th>Vulkan</th>\n    </tr>\n  </thead>\n  <tbody>\n    <tr>\n      <th>0</th>\n      <td>Nvidia</td>\n      <td>GeForce RTX 3090 Ti</td>\n      <td>260346.0</td>\n      <td>NaN</td>\n      <td>229738.0</td>\n      <td>141134.0</td>\n    </tr>\n    <tr>\n      <th>1</th>\n      <td>Nvidia</td>\n      <td>A100 80GB PCIe</td>\n      <td>259828.0</td>\n      <td>NaN</td>\n      <td>214586.0</td>\n      <td>NaN</td>\n    </tr>\n    <tr>\n      <th>2</th>\n      <td>Nvidia</td>\n      <td>A100-PCIE-80GB</td>\n      <td>256292.0</td>\n      <td>NaN</td>\n      <td>207124.0</td>\n      <td>NaN</td>\n    </tr>\n    <tr>\n      <th>3</th>\n      <td>Nvidia</td>\n      <td>GeForce RTX 3090</td>\n      <td>238123.0</td>\n      <td>NaN</td>\n      <td>204921.0</td>\n      <td>138859.0</td>\n    </tr>\n    <tr>\n      <th>4</th>\n      <td>Nvidia</td>\n      <td>A100-SXM4-40GB</td>\n      <td>237220.0</td>\n      <td>NaN</td>\n      <td>190489.0</td>\n      <td>NaN</td>\n    </tr>\n  </tbody>\n</table>\n</div>"
     },
     "execution_count": 5,
     "metadata": {},
     "output_type": "execute_result"
    }
   ],
   "source": [
    "df4.head()"
   ],
   "metadata": {
    "collapsed": false,
    "pycharm": {
     "name": "#%%\n"
    }
   }
  },
  {
   "cell_type": "code",
   "execution_count": 8,
   "outputs": [
    {
     "data": {
      "text/plain": "            G3Dmark      G2Dmark       price    gpuValue         TDP  \\\ncount   2317.000000  2317.000000   553.00000  553.000000  692.000000   \nmean    2046.512732   352.051791   439.74660   10.405515   98.968064   \nstd     3758.139908   226.631283   763.59252   10.879097   82.878671   \nmin        1.000000     7.000000    17.50000    0.000000    4.400000   \n25%      130.000000   171.000000   109.99000    1.690000   35.000000   \n50%      649.000000   307.000000   209.00000    6.580000   75.000000   \n75%     1953.000000   494.000000   435.00000   16.430000  147.000000   \nmax    29094.000000  1117.000000  8999.00000   69.730000  500.000000   \n\n       powerPerformance     testDate  \ncount        692.000000  2317.000000  \nmean          34.103634  2013.956841  \nstd           36.604351     3.911129  \nmin            0.630000  2009.000000  \n25%            7.592500  2010.000000  \n50%           20.825000  2013.000000  \n75%           49.120000  2017.000000  \nmax          204.000000  2022.000000  ",
      "text/html": "<div>\n<style scoped>\n    .dataframe tbody tr th:only-of-type {\n        vertical-align: middle;\n    }\n\n    .dataframe tbody tr th {\n        vertical-align: top;\n    }\n\n    .dataframe thead th {\n        text-align: right;\n    }\n</style>\n<table border=\"1\" class=\"dataframe\">\n  <thead>\n    <tr style=\"text-align: right;\">\n      <th></th>\n      <th>G3Dmark</th>\n      <th>G2Dmark</th>\n      <th>price</th>\n      <th>gpuValue</th>\n      <th>TDP</th>\n      <th>powerPerformance</th>\n      <th>testDate</th>\n    </tr>\n  </thead>\n  <tbody>\n    <tr>\n      <th>count</th>\n      <td>2317.000000</td>\n      <td>2317.000000</td>\n      <td>553.00000</td>\n      <td>553.000000</td>\n      <td>692.000000</td>\n      <td>692.000000</td>\n      <td>2317.000000</td>\n    </tr>\n    <tr>\n      <th>mean</th>\n      <td>2046.512732</td>\n      <td>352.051791</td>\n      <td>439.74660</td>\n      <td>10.405515</td>\n      <td>98.968064</td>\n      <td>34.103634</td>\n      <td>2013.956841</td>\n    </tr>\n    <tr>\n      <th>std</th>\n      <td>3758.139908</td>\n      <td>226.631283</td>\n      <td>763.59252</td>\n      <td>10.879097</td>\n      <td>82.878671</td>\n      <td>36.604351</td>\n      <td>3.911129</td>\n    </tr>\n    <tr>\n      <th>min</th>\n      <td>1.000000</td>\n      <td>7.000000</td>\n      <td>17.50000</td>\n      <td>0.000000</td>\n      <td>4.400000</td>\n      <td>0.630000</td>\n      <td>2009.000000</td>\n    </tr>\n    <tr>\n      <th>25%</th>\n      <td>130.000000</td>\n      <td>171.000000</td>\n      <td>109.99000</td>\n      <td>1.690000</td>\n      <td>35.000000</td>\n      <td>7.592500</td>\n      <td>2010.000000</td>\n    </tr>\n    <tr>\n      <th>50%</th>\n      <td>649.000000</td>\n      <td>307.000000</td>\n      <td>209.00000</td>\n      <td>6.580000</td>\n      <td>75.000000</td>\n      <td>20.825000</td>\n      <td>2013.000000</td>\n    </tr>\n    <tr>\n      <th>75%</th>\n      <td>1953.000000</td>\n      <td>494.000000</td>\n      <td>435.00000</td>\n      <td>16.430000</td>\n      <td>147.000000</td>\n      <td>49.120000</td>\n      <td>2017.000000</td>\n    </tr>\n    <tr>\n      <th>max</th>\n      <td>29094.000000</td>\n      <td>1117.000000</td>\n      <td>8999.00000</td>\n      <td>69.730000</td>\n      <td>500.000000</td>\n      <td>204.000000</td>\n      <td>2022.000000</td>\n    </tr>\n  </tbody>\n</table>\n</div>"
     },
     "execution_count": 8,
     "metadata": {},
     "output_type": "execute_result"
    }
   ],
   "source": [
    "df3.describe()"
   ],
   "metadata": {
    "collapsed": false,
    "pycharm": {
     "name": "#%%\n"
    }
   }
  },
  {
   "cell_type": "code",
   "execution_count": 10,
   "outputs": [
    {
     "name": "stdout",
     "output_type": "stream",
     "text": [
      "<class 'pandas.core.frame.DataFrame'>\n",
      "RangeIndex: 2317 entries, 0 to 2316\n",
      "Data columns (total 9 columns):\n",
      " #   Column            Non-Null Count  Dtype  \n",
      "---  ------            --------------  -----  \n",
      " 0   gpuName           2317 non-null   object \n",
      " 1   G3Dmark           2317 non-null   int64  \n",
      " 2   G2Dmark           2317 non-null   int64  \n",
      " 3   price             553 non-null    float64\n",
      " 4   gpuValue          553 non-null    float64\n",
      " 5   TDP               692 non-null    float64\n",
      " 6   powerPerformance  692 non-null    float64\n",
      " 7   testDate          2317 non-null   int64  \n",
      " 8   category          2317 non-null   object \n",
      "dtypes: float64(4), int64(3), object(2)\n",
      "memory usage: 163.0+ KB\n"
     ]
    }
   ],
   "source": [
    "df3.info()"
   ],
   "metadata": {
    "collapsed": false,
    "pycharm": {
     "name": "#%%\n"
    }
   }
  },
  {
   "cell_type": "code",
   "execution_count": 20,
   "outputs": [
    {
     "data": {
      "text/plain": "<AxesSubplot:>"
     },
     "execution_count": 20,
     "metadata": {},
     "output_type": "execute_result"
    },
    {
     "data": {
      "text/plain": "<Figure size 432x288 with 2 Axes>",
      "image/png": "[encoded data removed]"
     },
     "metadata": {
      "needs_background": "light"
     },
     "output_type": "display_data"
    }
   ],
   "source": [
    "sns.heatmap(df3.isnull(), cmap='GnBu')"
   ],
   "metadata": {
    "collapsed": false,
    "pycharm": {
     "name": "#%%\n"
    }
   }
  },
  {
   "cell_type": "code",
   "execution_count": 24,
   "outputs": [
    {
     "data": {
      "text/plain": "<AxesSubplot:xlabel='G2Dmark', ylabel='price'>"
     },
     "execution_count": 24,
     "metadata": {},
     "output_type": "execute_result"
    },
    {
     "data": {
      "text/plain": "<Figure size 432x288 with 1 Axes>",
      "image/png": "[encoded data removed]"
     },
     "metadata": {
      "needs_background": "light"
     },
     "output_type": "display_data"
    }
   ],
   "source": [
    "sns.scatterplot(x='G2Dmark',y='price',data=df3)"
   ],
   "metadata": {
    "collapsed": false,
    "pycharm": {
     "name": "#%%\n"
    }
   }
  },
  {
   "cell_type": "code",
   "execution_count": 26,
   "outputs": [
    {
     "data": {
      "text/plain": "<AxesSubplot:xlabel='G3Dmark', ylabel='price'>"
     },
     "execution_count": 26,
     "metadata": {},
     "output_type": "execute_result"
    },
    {
     "data": {
      "text/plain": "<Figure size 432x288 with 1 Axes>",
      "image/png": "[encoded data removed]"
     },
     "metadata": {
      "needs_background": "light"
     },
     "output_type": "display_data"
    }
   ],
   "source": [
    "sns.scatterplot(x='G3Dmark',y='price',data=df3)"
   ],
   "metadata": {
    "collapsed": false,
    "pycharm": {
     "name": "#%%\n"
    }
   }
  },
  {
   "cell_type": "code",
   "execution_count": 27,
   "outputs": [
    {
     "data": {
      "text/plain": "Index(['gpuName', 'G3Dmark', 'G2Dmark', 'price', 'gpuValue', 'TDP',\n       'powerPerformance', 'testDate', 'category'],\n      dtype='object')"
     },
     "execution_count": 27,
     "metadata": {},
     "output_type": "execute_result"
    }
   ],
   "source": [
    "df3.columns"
   ],
   "metadata": {
    "collapsed": false,
    "pycharm": {
     "name": "#%%\n"
    }
   }
  },
  {
   "cell_type": "code",
   "execution_count": 28,
   "outputs": [
    {
     "name": "stdout",
     "output_type": "stream",
     "text": [
      "<class 'pandas.core.frame.DataFrame'>\n",
      "RangeIndex: 2317 entries, 0 to 2316\n",
      "Data columns (total 9 columns):\n",
      " #   Column            Non-Null Count  Dtype  \n",
      "---  ------            --------------  -----  \n",
      " 0   gpuName           2317 non-null   object \n",
      " 1   G3Dmark           2317 non-null   int64  \n",
      " 2   G2Dmark           2317 non-null   int64  \n",
      " 3   price             553 non-null    float64\n",
      " 4   gpuValue          553 non-null    float64\n",
      " 5   TDP               692 non-null    float64\n",
      " 6   powerPerformance  692 non-null    float64\n",
      " 7   testDate          2317 non-null   int64  \n",
      " 8   category          2317 non-null   object \n",
      "dtypes: float64(4), int64(3), object(2)\n",
      "memory usage: 163.0+ KB\n"
     ]
    }
   ],
   "source": [
    "df3.info()"
   ],
   "metadata": {
    "collapsed": false,
    "pycharm": {
     "name": "#%%\n"
    }
   }
  },
  {
   "cell_type": "code",
   "execution_count": 29,
   "outputs": [
    {
     "data": {
      "text/plain": "gpuName             2317\nG3Dmark             2317\nG2Dmark             2317\nprice                553\ngpuValue             553\nTDP                  692\npowerPerformance     692\ntestDate            2317\ncategory            2317\ndtype: int64"
     },
     "execution_count": 29,
     "metadata": {},
     "output_type": "execute_result"
    }
   ],
   "source": [
    "df3.count()"
   ],
   "metadata": {
    "collapsed": false,
    "pycharm": {
     "name": "#%%\n"
    }
   }
  },
  {
   "cell_type": "code",
   "execution_count": 34,
   "outputs": [],
   "source": [
    "gpu_work = df3[df3['price'].isnull()==False]"
   ],
   "metadata": {
    "collapsed": false,
    "pycharm": {
     "name": "#%%\n"
    }
   }
  },
  {
   "cell_type": "code",
   "execution_count": 35,
   "outputs": [
    {
     "name": "stdout",
     "output_type": "stream",
     "text": [
      "<class 'pandas.core.frame.DataFrame'>\n",
      "Int64Index: 553 entries, 0 to 2298\n",
      "Data columns (total 9 columns):\n",
      " #   Column            Non-Null Count  Dtype  \n",
      "---  ------            --------------  -----  \n",
      " 0   gpuName           553 non-null    object \n",
      " 1   G3Dmark           553 non-null    int64  \n",
      " 2   G2Dmark           553 non-null    int64  \n",
      " 3   price             553 non-null    float64\n",
      " 4   gpuValue          553 non-null    float64\n",
      " 5   TDP               387 non-null    float64\n",
      " 6   powerPerformance  387 non-null    float64\n",
      " 7   testDate          553 non-null    int64  \n",
      " 8   category          553 non-null    object \n",
      "dtypes: float64(4), int64(3), object(2)\n",
      "memory usage: 43.2+ KB\n"
     ]
    }
   ],
   "source": [
    "gpu_work.info()"
   ],
   "metadata": {
    "collapsed": false,
    "pycharm": {
     "name": "#%%\n"
    }
   }
  },
  {
   "cell_type": "code",
   "execution_count": 36,
   "outputs": [
    {
     "name": "stderr",
     "output_type": "stream",
     "text": [
      "C:\\Users\\Deepu Singla\\AppData\\Local\\Temp\\ipykernel_18680\\125056540.py:1: SettingWithCopyWarning: \n",
      "A value is trying to be set on a copy of a slice from a DataFrame\n",
      "\n",
      "See the caveats in the documentation: https://pandas.pydata.org/pandas-docs/stable/user_guide/indexing.html#returning-a-view-versus-a-copy\n",
      "  gpu_work.drop('TDP', axis=1, inplace=True)\n"
     ]
    }
   ],
   "source": [
    "gpu_work.drop('TDP', axis=1, inplace=True)"
   ],
   "metadata": {
    "collapsed": false,
    "pycharm": {
     "name": "#%%\n"
    }
   }
  },
  {
   "cell_type": "code",
   "execution_count": 37,
   "outputs": [
    {
     "name": "stdout",
     "output_type": "stream",
     "text": [
      "<class 'pandas.core.frame.DataFrame'>\n",
      "Int64Index: 553 entries, 0 to 2298\n",
      "Data columns (total 8 columns):\n",
      " #   Column            Non-Null Count  Dtype  \n",
      "---  ------            --------------  -----  \n",
      " 0   gpuName           553 non-null    object \n",
      " 1   G3Dmark           553 non-null    int64  \n",
      " 2   G2Dmark           553 non-null    int64  \n",
      " 3   price             553 non-null    float64\n",
      " 4   gpuValue          553 non-null    float64\n",
      " 5   powerPerformance  387 non-null    float64\n",
      " 6   testDate          553 non-null    int64  \n",
      " 7   category          553 non-null    object \n",
      "dtypes: float64(3), int64(3), object(2)\n",
      "memory usage: 38.9+ KB\n"
     ]
    }
   ],
   "source": [
    "gpu_work.info()"
   ],
   "metadata": {
    "collapsed": false,
    "pycharm": {
     "name": "#%%\n"
    }
   }
  },
  {
   "cell_type": "code",
   "execution_count": 38,
   "outputs": [
    {
     "name": "stderr",
     "output_type": "stream",
     "text": [
      "C:\\Users\\Deepu Singla\\AppData\\Local\\Temp\\ipykernel_18680\\4109477365.py:1: SettingWithCopyWarning: \n",
      "A value is trying to be set on a copy of a slice from a DataFrame\n",
      "\n",
      "See the caveats in the documentation: https://pandas.pydata.org/pandas-docs/stable/user_guide/indexing.html#returning-a-view-versus-a-copy\n",
      "  gpu_work.drop('powerPerformance', axis=1, inplace=True)\n"
     ]
    }
   ],
   "source": [
    "gpu_work.drop('powerPerformance', axis=1, inplace=True)"
   ],
   "metadata": {
    "collapsed": false,
    "pycharm": {
     "name": "#%%\n"
    }
   }
  },
  {
   "cell_type": "code",
   "execution_count": 39,
   "outputs": [
    {
     "name": "stdout",
     "output_type": "stream",
     "text": [
      "<class 'pandas.core.frame.DataFrame'>\n",
      "Int64Index: 553 entries, 0 to 2298\n",
      "Data columns (total 7 columns):\n",
      " #   Column    Non-Null Count  Dtype  \n",
      "---  ------    --------------  -----  \n",
      " 0   gpuName   553 non-null    object \n",
      " 1   G3Dmark   553 non-null    int64  \n",
      " 2   G2Dmark   553 non-null    int64  \n",
      " 3   price     553 non-null    float64\n",
      " 4   gpuValue  553 non-null    float64\n",
      " 5   testDate  553 non-null    int64  \n",
      " 6   category  553 non-null    object \n",
      "dtypes: float64(2), int64(3), object(2)\n",
      "memory usage: 34.6+ KB\n"
     ]
    }
   ],
   "source": [
    "gpu_work.info()"
   ],
   "metadata": {
    "collapsed": false,
    "pycharm": {
     "name": "#%%\n"
    }
   }
  },
  {
   "cell_type": "code",
   "execution_count": 40,
   "outputs": [
    {
     "name": "stderr",
     "output_type": "stream",
     "text": [
      "C:\\Users\\Deepu Singla\\AppData\\Local\\Temp\\ipykernel_18680\\1477442293.py:1: SettingWithCopyWarning: \n",
      "A value is trying to be set on a copy of a slice from a DataFrame\n",
      "\n",
      "See the caveats in the documentation: https://pandas.pydata.org/pandas-docs/stable/user_guide/indexing.html#returning-a-view-versus-a-copy\n",
      "  gpu_work.drop(['gpuName','testDate','category'], axis=1, inplace=True)\n"
     ]
    }
   ],
   "source": [
    "gpu_work.drop(['gpuName','testDate','category'], axis=1, inplace=True)"
   ],
   "metadata": {
    "collapsed": false,
    "pycharm": {
     "name": "#%%\n"
    }
   }
  },
  {
   "cell_type": "code",
   "execution_count": 41,
   "outputs": [
    {
     "name": "stdout",
     "output_type": "stream",
     "text": [
      "<class 'pandas.core.frame.DataFrame'>\n",
      "Int64Index: 553 entries, 0 to 2298\n",
      "Data columns (total 4 columns):\n",
      " #   Column    Non-Null Count  Dtype  \n",
      "---  ------    --------------  -----  \n",
      " 0   G3Dmark   553 non-null    int64  \n",
      " 1   G2Dmark   553 non-null    int64  \n",
      " 2   price     553 non-null    float64\n",
      " 3   gpuValue  553 non-null    float64\n",
      "dtypes: float64(2), int64(2)\n",
      "memory usage: 21.6 KB\n"
     ]
    }
   ],
   "source": [
    "gpu_work.info()"
   ],
   "metadata": {
    "collapsed": false,
    "pycharm": {
     "name": "#%%\n"
    }
   }
  },
  {
   "cell_type": "code",
   "execution_count": 42,
   "outputs": [],
   "source": [
    "from sklearn.ensemble import RandomForestRegressor"
   ],
   "metadata": {
    "collapsed": false,
    "pycharm": {
     "name": "#%%\n"
    }
   }
  },
  {
   "cell_type": "code",
   "execution_count": null,
   "outputs": [],
   "source": [],
   "metadata": {
    "collapsed": false,
    "pycharm": {
     "name": "#%%\n"
    }
   }
  }
 ],
 "metadata": {
  "kernelspec": {
   "display_name": "Python 3",
   "language": "python",
   "name": "python3"
  },
  "language_info": {
   "codemirror_mode": {
    "name": "ipython",
    "version": 2
   },
   "file_extension": ".py",
   "mimetype": "text/x-python",
   "name": "python",
   "nbconvert_exporter": "python",
   "pygments_lexer": "ipython2",
   "version": "2.7.6"
  }
 },
 "nbformat": 4,
 "nbformat_minor": 0
}